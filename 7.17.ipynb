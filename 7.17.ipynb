{
 "cells": [
  {
   "cell_type": "markdown",
   "metadata": {},
   "source": [
    "# 数学函数、字符串和对象\n",
    "## 本章介绍Python函数来执行常见的数学运算\n",
    "- 函数是完成一个特殊任务的一组语句，可以理解为一个函数相当于一个小功能，但是在开发中，需要注意一个函数的长度最好不要超过一屏\n",
    "- Python中的内置函数是不需要Import导入的\n",
    "<img src=\"../Photo/15.png\"></img>"
   ]
  },
  {
   "cell_type": "code",
   "execution_count": 4,
   "metadata": {},
   "outputs": [
    {
     "name": "stdout",
     "output_type": "stream",
     "text": [
      "10\n"
     ]
    }
   ],
   "source": [
    "a=-10\n",
    "print(abs(a))\n"
   ]
  },
  {
   "cell_type": "code",
   "execution_count": 5,
   "metadata": {},
   "outputs": [
    {
     "name": "stdout",
     "output_type": "stream",
     "text": [
      "10.1\n"
     ]
    }
   ],
   "source": [
    "b=-10.1\n",
    "print(abs(b))\n"
   ]
  },
  {
   "cell_type": "code",
   "execution_count": 6,
   "metadata": {},
   "outputs": [
    {
     "name": "stdout",
     "output_type": "stream",
     "text": [
      "0\n"
     ]
    }
   ],
   "source": [
    "c=0\n",
    "print(abs(c))\n"
   ]
  },
  {
   "cell_type": "code",
   "execution_count": 7,
   "metadata": {},
   "outputs": [
    {
     "data": {
      "text/plain": [
       "6"
      ]
     },
     "execution_count": 7,
     "metadata": {},
     "output_type": "execute_result"
    }
   ],
   "source": [
    "max(1,2,3,4,6)"
   ]
  },
  {
   "cell_type": "code",
   "execution_count": 8,
   "metadata": {},
   "outputs": [
    {
     "data": {
      "text/plain": [
       "-3"
      ]
     },
     "execution_count": 8,
     "metadata": {},
     "output_type": "execute_result"
    }
   ],
   "source": [
    "min(-1,2,-3,5)"
   ]
  },
  {
   "cell_type": "code",
   "execution_count": 10,
   "metadata": {},
   "outputs": [
    {
     "data": {
      "text/plain": [
       "True"
      ]
     },
     "execution_count": 10,
     "metadata": {},
     "output_type": "execute_result"
    }
   ],
   "source": [
    "max(True,False)\n"
   ]
  },
  {
   "cell_type": "code",
   "execution_count": 12,
   "metadata": {},
   "outputs": [
    {
     "data": {
      "text/plain": [
       "4"
      ]
     },
     "execution_count": 12,
     "metadata": {},
     "output_type": "execute_result"
    }
   ],
   "source": [
    "pow(2,2)#mizhishu\n",
    "\n"
   ]
  },
  {
   "cell_type": "code",
   "execution_count": 13,
   "metadata": {},
   "outputs": [
    {
     "data": {
      "text/plain": [
       "1"
      ]
     },
     "execution_count": 13,
     "metadata": {},
     "output_type": "execute_result"
    }
   ],
   "source": [
    "pow(2,2,3)#mizhishu,第三个参数取模"
   ]
  },
  {
   "cell_type": "code",
   "execution_count": 18,
   "metadata": {},
   "outputs": [
    {
     "data": {
      "text/plain": [
       "10.1"
      ]
     },
     "execution_count": 18,
     "metadata": {},
     "output_type": "execute_result"
    }
   ],
   "source": [
    "round(10.10,1)"
   ]
  },
  {
   "cell_type": "markdown",
   "metadata": {},
   "source": [
    "## 尝试练习Python内置函数"
   ]
  },
  {
   "cell_type": "markdown",
   "metadata": {},
   "source": [
    "## Python中的math模块提供了许多数学函数\n",
    "<img src=\"../Photo/16.png\"></img>\n",
    "<img src=\"../Photo/17.png\"></img>\n"
   ]
  },
  {
   "cell_type": "code",
   "execution_count": 20,
   "metadata": {},
   "outputs": [
    {
     "name": "stdout",
     "output_type": "stream",
     "text": [
      "2.0\n"
     ]
    }
   ],
   "source": [
    "import math\n",
    "a1=math.fabs(-2)\n",
    "print(a1)"
   ]
  },
  {
   "cell_type": "code",
   "execution_count": 26,
   "metadata": {},
   "outputs": [
    {
     "name": "stdout",
     "output_type": "stream",
     "text": [
      "6.123233995736766e-17\n",
      "0.0\n"
     ]
    }
   ],
   "source": [
    "import math\n",
    "b1=math.cos(math.radians(90))#cos带入的是弧度值\n",
    "print(b1)\n",
    "b2=math.acos(1.0)\n",
    "print(b2)"
   ]
  },
  {
   "cell_type": "code",
   "execution_count": 27,
   "metadata": {},
   "outputs": [
    {
     "name": "stdout",
     "output_type": "stream",
     "text": [
      "31415.926535897932\n"
     ]
    }
   ],
   "source": [
    "import math\n",
    "radius = 100  # 定义变量\n",
    "area = radius * radius * math.pi # 普通代码，* 代表乘法\n",
    "print(area)  # 最后打印出结果\n"
   ]
  },
  {
   "cell_type": "code",
   "execution_count": 28,
   "metadata": {},
   "outputs": [
    {
     "data": {
      "text/plain": [
       "2.0"
      ]
     },
     "execution_count": 28,
     "metadata": {},
     "output_type": "execute_result"
    }
   ],
   "source": [
    "import math\n",
    "math.sqrt(4)"
   ]
  },
  {
   "cell_type": "code",
   "execution_count": 29,
   "metadata": {},
   "outputs": [
    {
     "data": {
      "text/plain": [
       "-2.4492935982947064e-16"
      ]
     },
     "execution_count": 29,
     "metadata": {},
     "output_type": "execute_result"
    }
   ],
   "source": [
    "import math\n",
    "math.sin(2*math.pi)"
   ]
  },
  {
   "cell_type": "code",
   "execution_count": 32,
   "metadata": {},
   "outputs": [
    {
     "data": {
      "text/plain": [
       "1.0"
      ]
     },
     "execution_count": 32,
     "metadata": {},
     "output_type": "execute_result"
    }
   ],
   "source": [
    "import math\n",
    "math.cos(2*math.pi)"
   ]
  },
  {
   "cell_type": "code",
   "execution_count": 31,
   "metadata": {},
   "outputs": [
    {
     "data": {
      "text/plain": [
       "1"
      ]
     },
     "execution_count": 31,
     "metadata": {},
     "output_type": "execute_result"
    }
   ],
   "source": [
    "min(2,2,1)"
   ]
  },
  {
   "cell_type": "code",
   "execution_count": 33,
   "metadata": {},
   "outputs": [
    {
     "data": {
      "text/plain": [
       "1.0"
      ]
     },
     "execution_count": 33,
     "metadata": {},
     "output_type": "execute_result"
    }
   ],
   "source": [
    "import math\n",
    "math.log(math.e)"
   ]
  },
  {
   "cell_type": "code",
   "execution_count": 34,
   "metadata": {},
   "outputs": [
    {
     "data": {
      "text/plain": [
       "2.718281828459045"
      ]
     },
     "execution_count": 34,
     "metadata": {},
     "output_type": "execute_result"
    }
   ],
   "source": [
    "import math\n",
    "math.exp(1)"
   ]
  },
  {
   "cell_type": "code",
   "execution_count": 35,
   "metadata": {},
   "outputs": [
    {
     "data": {
      "text/plain": [
       "4"
      ]
     },
     "execution_count": 35,
     "metadata": {},
     "output_type": "execute_result"
    }
   ],
   "source": [
    "max(2,3,4)"
   ]
  },
  {
   "cell_type": "code",
   "execution_count": 36,
   "metadata": {},
   "outputs": [
    {
     "data": {
      "text/plain": [
       "2.5"
      ]
     },
     "execution_count": 36,
     "metadata": {},
     "output_type": "execute_result"
    }
   ],
   "source": [
    "abs(-2.5)"
   ]
  },
  {
   "cell_type": "code",
   "execution_count": 6,
   "metadata": {},
   "outputs": [
    {
     "name": "stdout",
     "output_type": "stream",
     "text": [
      "7+3=?\n",
      "11\n",
      "验证码错误\n"
     ]
    }
   ],
   "source": [
    "number=eval(input('7+3=?\\n'))\n",
    "if number == 10:\n",
    "    print('验证码正确')\n",
    "else:\n",
    "    print('验证码错误')"
   ]
  },
  {
   "cell_type": "code",
   "execution_count": 5,
   "metadata": {
    "scrolled": true
   },
   "outputs": [
    {
     "name": "stdout",
     "output_type": "stream",
     "text": [
      "7+3=?\n",
      "10\n",
      "验证码正确\n"
     ]
    }
   ],
   "source": [
    "b=eval(input('7+3=?\\n'))\n",
    "\n",
    "##number=eval(input('7+3=?'))\n",
    "if b == 10:\n",
    "    print('验证码正确')\n",
    "else:\n",
    "    print('验证码错误')"
   ]
  },
  {
   "cell_type": "code",
   "execution_count": 8,
   "metadata": {},
   "outputs": [
    {
     "name": "stdout",
     "output_type": "stream",
     "text": [
      "25.714285714285715\n"
     ]
    }
   ],
   "source": [
    "import math\n",
    "a=(math.pi)/7\n",
    "b=math.degrees(a)\n",
    "print(b)  # 最后打印出结果"
   ]
  },
  {
   "cell_type": "code",
   "execution_count": 9,
   "metadata": {},
   "outputs": [
    {
     "name": "stdout",
     "output_type": "stream",
     "text": [
      "0.8203047484373349\n"
     ]
    }
   ],
   "source": [
    "import math\n",
    "b=math.radians(47)\n",
    "print(b)  # 最后打印出结果"
   ]
  },
  {
   "cell_type": "markdown",
   "metadata": {},
   "source": [
    "## 两个数学常量PI和e，可以通过使用math.pi 和math.e调用"
   ]
  },
  {
   "cell_type": "markdown",
   "metadata": {},
   "source": [
    "## EP:\n",
    "- 通过math库，写一个程序，使得用户输入三个顶点(x,y)返回三个角度\n",
    "- 注意：Python计算角度为弧度制，需要将其转换为角度\n",
    "<img src=\"../Photo/18.png\">"
   ]
  },
  {
   "cell_type": "code",
   "execution_count": 18,
   "metadata": {},
   "outputs": [
    {
     "name": "stdout",
     "output_type": "stream",
     "text": [
      "x12\n",
      "y12\n",
      "x23\n",
      "y24\n",
      "x35\n",
      "y36\n",
      "10.304846468766044\n",
      "161.565051177078\n",
      "8.130102354156005\n"
     ]
    }
   ],
   "source": [
    "import math\n",
    "x1=eval(input('x1'))\n",
    "y1=eval(input('y1'))\n",
    "x2=eval(input('x2'))\n",
    "y2=eval(input('y2'))\n",
    "x3=eval(input('x3'))\n",
    "y3=eval(input('y3'))\n",
    "a=math.sqrt(((x2-x3)*(x2-x3)+(y2-y3)*(y2-y3)))\n",
    "b=math.sqrt((x1-x3)**2+(y1-y3)**2)\n",
    "c=math.sqrt((x1-x2)**2+(y1-y2)**2)\n",
    "A=math.degrees(math.acos((a*a-b*b-c*c)/(-2*b*c)))\n",
    "B=math.degrees(math.acos((b*b-a*a-c*c)/(-2*a*c)))\n",
    "C=math.degrees(math.acos((c*c-a*a-b*b)/(-2*a*b)))\n",
    "print(A)\n",
    "print(B)\n",
    "print(C)"
   ]
  },
  {
   "cell_type": "markdown",
   "metadata": {},
   "source": [
    "### 字符串和字符\n",
    "- 在Python中，字符串必须是在单引号或者双引号内，在多段换行的字符串中可以使用“”“\n",
    "- 在使用”“”时，给予其变量则变为字符串，否则当多行注释使用"
   ]
  },
  {
   "cell_type": "code",
   "execution_count": 26,
   "metadata": {},
   "outputs": [
    {
     "name": "stdout",
     "output_type": "stream",
     "text": [
      "<class 'str'> <class 'str'>\n",
      "joker <class 'str'>\n"
     ]
    }
   ],
   "source": [
    "a=\"joker\"\n",
    "a1=\"hahahaha\"\n",
    "print(type(a),type(a1))\n",
    "print(a,type(a))"
   ]
  },
  {
   "cell_type": "markdown",
   "metadata": {},
   "source": [
    "## ASCII码与Unicode码\n",
    "- <img src=\"../Photo/19.png\"></img>\n",
    "- <img src=\"../Photo/20.png\"></img>\n",
    "- <img src=\"../Photo/21.png\"></img>"
   ]
  },
  {
   "cell_type": "markdown",
   "metadata": {},
   "source": [
    "## 函数ord、chr\n",
    "- ord 返回ASCII码值\n",
    "- chr 返回字符"
   ]
  },
  {
   "cell_type": "code",
   "execution_count": 29,
   "metadata": {},
   "outputs": [
    {
     "data": {
      "text/plain": [
       "65"
      ]
     },
     "execution_count": 29,
     "metadata": {},
     "output_type": "execute_result"
    }
   ],
   "source": [
    "joker='A'\n",
    "ord(joker)"
   ]
  },
  {
   "cell_type": "code",
   "execution_count": 30,
   "metadata": {},
   "outputs": [
    {
     "data": {
      "text/plain": [
       "'A'"
      ]
     },
     "execution_count": 30,
     "metadata": {},
     "output_type": "execute_result"
    }
   ],
   "source": [
    "chr(65)"
   ]
  },
  {
   "cell_type": "markdown",
   "metadata": {},
   "source": [
    "## EP:\n",
    "- 利用ord与chr进行简单邮箱加密"
   ]
  },
  {
   "cell_type": "code",
   "execution_count": 37,
   "metadata": {},
   "outputs": [
    {
     "name": "stdout",
     "output_type": "stream",
     "text": [
      ":\n",
      "9\n",
      ":\n",
      "?\n",
      "6\n",
      "=\n",
      ">\n",
      "<\n",
      "8\n",
      "F\n",
      "7\n",
      "<\n",
      "9\n",
      "4\n",
      "i\n",
      "u\n",
      "s\n"
     ]
    }
   ],
   "source": [
    "email='434907862@163.com'\n",
    "for i in email:\n",
    "    test=ord(i)+6\n",
    "    test_test=chr(test)\n",
    "    print(test_test)"
   ]
  },
  {
   "cell_type": "code",
   "execution_count": 40,
   "metadata": {},
   "outputs": [
    {
     "ename": "TypeError",
     "evalue": "Unicode-objects must be encoded before hashing",
     "output_type": "error",
     "traceback": [
      "\u001b[1;31m---------------------------------------------------------------------------\u001b[0m",
      "\u001b[1;31mTypeError\u001b[0m                                 Traceback (most recent call last)",
      "\u001b[1;32m<ipython-input-40-4653b3374827>\u001b[0m in \u001b[0;36m<module>\u001b[1;34m()\u001b[0m\n\u001b[0;32m      1\u001b[0m \u001b[1;32mimport\u001b[0m \u001b[0mhashlib\u001b[0m\u001b[1;33m\u001b[0m\u001b[0m\n\u001b[1;32m----> 2\u001b[1;33m \u001b[0mh1\u001b[0m\u001b[1;33m=\u001b[0m\u001b[0mhashlib\u001b[0m\u001b[1;33m.\u001b[0m\u001b[0mmd5\u001b[0m\u001b[1;33m(\u001b[0m\u001b[1;34m'王子'\u001b[0m\u001b[1;33m)\u001b[0m\u001b[1;33m\u001b[0m\u001b[0m\n\u001b[0m\u001b[0;32m      3\u001b[0m \u001b[0mprint\u001b[0m\u001b[1;33m(\u001b[0m\u001b[0mh1\u001b[0m\u001b[1;33m)\u001b[0m\u001b[1;33m\u001b[0m\u001b[0m\n",
      "\u001b[1;31mTypeError\u001b[0m: Unicode-objects must be encoded before hashing"
     ]
    }
   ],
   "source": [
    "import hashlib\n",
    "h1=hashlib.md5('王子')\n",
    "print(h1)"
   ]
  },
  {
   "cell_type": "markdown",
   "metadata": {},
   "source": [
    "## 转义序列 \\\n",
    "- a = \"He said,\"Johon's program is easy to read\"\""
   ]
  },
  {
   "cell_type": "code",
   "execution_count": 4,
   "metadata": {},
   "outputs": [
    {
     "name": "stdout",
     "output_type": "stream",
     "text": [
      "He said,\"Johon's program is easy to read\"\n"
     ]
    }
   ],
   "source": [
    "a = \"He said,\\\"Johon's program is easy to read\\\"\"\n",
    "print(a)"
   ]
  },
  {
   "cell_type": "markdown",
   "metadata": {},
   "source": [
    "## 高级print\n",
    "- 参数 end： 以什么方式结束打印\n",
    "- 默认换行打印"
   ]
  },
  {
   "cell_type": "code",
   "execution_count": 5,
   "metadata": {},
   "outputs": [
    {
     "name": "stdout",
     "output_type": "stream",
     "text": [
      "hahaha\n"
     ]
    }
   ],
   "source": [
    "print('hahaha')"
   ]
  },
  {
   "cell_type": "code",
   "execution_count": 8,
   "metadata": {},
   "outputs": [
    {
     "name": "stdout",
     "output_type": "stream",
     "text": [
      ":9:?6=><8F7<94ius"
     ]
    }
   ],
   "source": [
    "email='434907862@163.com'\n",
    "for i in email:\n",
    "    test=ord(i)+6\n",
    "    test_test=chr(test)\n",
    "    print(test_test,end='')"
   ]
  },
  {
   "cell_type": "markdown",
   "metadata": {},
   "source": [
    "## 函数str\n",
    "- 将类型强制转换成字符串类型\n",
    "- 其他一些以后会学到(list,set,tuple...)"
   ]
  },
  {
   "cell_type": "markdown",
   "metadata": {},
   "source": [
    "## 字符串连接操作\n",
    "- 直接使用 “+” \n",
    "- join() 函数 "
   ]
  },
  {
   "cell_type": "code",
   "execution_count": 10,
   "metadata": {},
   "outputs": [
    {
     "name": "stdout",
     "output_type": "stream",
     "text": [
      "jokerhahah\n"
     ]
    }
   ],
   "source": [
    "a1='joker'\n",
    "a2='hahah'\n",
    "print(a1+a2)"
   ]
  },
  {
   "cell_type": "code",
   "execution_count": 11,
   "metadata": {},
   "outputs": [
    {
     "name": "stdout",
     "output_type": "stream",
     "text": [
      "www.baidu.com/page=0\n",
      "www.baidu.com/page=1\n",
      "www.baidu.com/page=2\n",
      "www.baidu.com/page=3\n",
      "www.baidu.com/page=4\n",
      "www.baidu.com/page=5\n",
      "www.baidu.com/page=6\n",
      "www.baidu.com/page=7\n",
      "www.baidu.com/page=8\n",
      "www.baidu.com/page=9\n",
      "www.baidu.com/page=10\n",
      "www.baidu.com/page=11\n",
      "www.baidu.com/page=12\n",
      "www.baidu.com/page=13\n",
      "www.baidu.com/page=14\n",
      "www.baidu.com/page=15\n",
      "www.baidu.com/page=16\n",
      "www.baidu.com/page=17\n",
      "www.baidu.com/page=18\n",
      "www.baidu.com/page=19\n",
      "www.baidu.com/page=20\n",
      "www.baidu.com/page=21\n",
      "www.baidu.com/page=22\n",
      "www.baidu.com/page=23\n",
      "www.baidu.com/page=24\n",
      "www.baidu.com/page=25\n",
      "www.baidu.com/page=26\n",
      "www.baidu.com/page=27\n",
      "www.baidu.com/page=28\n",
      "www.baidu.com/page=29\n",
      "www.baidu.com/page=30\n",
      "www.baidu.com/page=31\n",
      "www.baidu.com/page=32\n",
      "www.baidu.com/page=33\n",
      "www.baidu.com/page=34\n",
      "www.baidu.com/page=35\n",
      "www.baidu.com/page=36\n",
      "www.baidu.com/page=37\n",
      "www.baidu.com/page=38\n",
      "www.baidu.com/page=39\n",
      "www.baidu.com/page=40\n",
      "www.baidu.com/page=41\n",
      "www.baidu.com/page=42\n",
      "www.baidu.com/page=43\n",
      "www.baidu.com/page=44\n",
      "www.baidu.com/page=45\n",
      "www.baidu.com/page=46\n",
      "www.baidu.com/page=47\n",
      "www.baidu.com/page=48\n",
      "www.baidu.com/page=49\n",
      "www.baidu.com/page=50\n",
      "www.baidu.com/page=51\n",
      "www.baidu.com/page=52\n",
      "www.baidu.com/page=53\n",
      "www.baidu.com/page=54\n",
      "www.baidu.com/page=55\n",
      "www.baidu.com/page=56\n",
      "www.baidu.com/page=57\n",
      "www.baidu.com/page=58\n",
      "www.baidu.com/page=59\n",
      "www.baidu.com/page=60\n",
      "www.baidu.com/page=61\n",
      "www.baidu.com/page=62\n",
      "www.baidu.com/page=63\n",
      "www.baidu.com/page=64\n",
      "www.baidu.com/page=65\n",
      "www.baidu.com/page=66\n",
      "www.baidu.com/page=67\n",
      "www.baidu.com/page=68\n",
      "www.baidu.com/page=69\n",
      "www.baidu.com/page=70\n",
      "www.baidu.com/page=71\n",
      "www.baidu.com/page=72\n",
      "www.baidu.com/page=73\n",
      "www.baidu.com/page=74\n",
      "www.baidu.com/page=75\n",
      "www.baidu.com/page=76\n",
      "www.baidu.com/page=77\n",
      "www.baidu.com/page=78\n",
      "www.baidu.com/page=79\n",
      "www.baidu.com/page=80\n",
      "www.baidu.com/page=81\n",
      "www.baidu.com/page=82\n",
      "www.baidu.com/page=83\n",
      "www.baidu.com/page=84\n",
      "www.baidu.com/page=85\n",
      "www.baidu.com/page=86\n",
      "www.baidu.com/page=87\n",
      "www.baidu.com/page=88\n",
      "www.baidu.com/page=89\n",
      "www.baidu.com/page=90\n",
      "www.baidu.com/page=91\n",
      "www.baidu.com/page=92\n",
      "www.baidu.com/page=93\n",
      "www.baidu.com/page=94\n",
      "www.baidu.com/page=95\n",
      "www.baidu.com/page=96\n",
      "www.baidu.com/page=97\n",
      "www.baidu.com/page=98\n",
      "www.baidu.com/page=99\n"
     ]
    }
   ],
   "source": [
    "a1='www.baidu.com/page='\n",
    "for i in range(100):\n",
    "    a2=a1+str(i)\n",
    "    print(a2)"
   ]
  },
  {
   "cell_type": "code",
   "execution_count": 21,
   "metadata": {},
   "outputs": [
    {
     "data": {
      "text/plain": [
       "'a#c#d#f'"
      ]
     },
     "execution_count": 21,
     "metadata": {},
     "output_type": "execute_result"
    }
   ],
   "source": [
    "'#'.join(('a','c','d','f'))"
   ]
  },
  {
   "cell_type": "code",
   "execution_count": 22,
   "metadata": {},
   "outputs": [
    {
     "name": "stdout",
     "output_type": "stream",
     "text": [
      "Wall time: 0 ns\n"
     ]
    },
    {
     "data": {
      "text/plain": [
       "'a#c#d#f'"
      ]
     },
     "execution_count": 22,
     "metadata": {},
     "output_type": "execute_result"
    }
   ],
   "source": [
    "%time '#'.join(('a','c','d','f'))"
   ]
  },
  {
   "cell_type": "markdown",
   "metadata": {},
   "source": [
    "## EP：\n",
    "- 将 “Welcome” “to” \"Python\" 拼接\n",
    "- 将int型 100 与 “joker is a bad man” 拼接\n",
    "- 从控制台读取字符串\n",
    "> 输入一个名字返回夸奖此人是一个帅哥"
   ]
  },
  {
   "cell_type": "code",
   "execution_count": 13,
   "metadata": {},
   "outputs": [
    {
     "name": "stdout",
     "output_type": "stream",
     "text": [
      "小李\n"
     ]
    },
    {
     "data": {
      "text/plain": [
       "'小李是一个帅哥'"
      ]
     },
     "execution_count": 13,
     "metadata": {},
     "output_type": "execute_result"
    }
   ],
   "source": [
    "a=input()\n",
    "''.join((a,'是一个帅哥'))"
   ]
  },
  {
   "cell_type": "code",
   "execution_count": 12,
   "metadata": {},
   "outputs": [
    {
     "name": "stdout",
     "output_type": "stream",
     "text": [
      "welcome to Python\n"
     ]
    }
   ],
   "source": [
    "print(\"welcome\"+\" \" +\"to\"+\" \"  +\"Python\")"
   ]
  },
  {
   "cell_type": "code",
   "execution_count": 23,
   "metadata": {},
   "outputs": [
    {
     "name": "stdout",
     "output_type": "stream",
     "text": [
      "Wall time: 0 ns\n"
     ]
    },
    {
     "data": {
      "text/plain": [
       "'welcome to Python'"
      ]
     },
     "execution_count": 23,
     "metadata": {},
     "output_type": "execute_result"
    }
   ],
   "source": [
    "%time \"welcome\"+\" \" +\"to\"+\" \"  +\"Python\""
   ]
  },
  {
   "cell_type": "code",
   "execution_count": 9,
   "metadata": {},
   "outputs": [
    {
     "data": {
      "text/plain": [
       "'100joker is a bad man'"
      ]
     },
     "execution_count": 9,
     "metadata": {},
     "output_type": "execute_result"
    }
   ],
   "source": [
    "str(100)+'joker is a bad man'"
   ]
  },
  {
   "cell_type": "code",
   "execution_count": 17,
   "metadata": {},
   "outputs": [
    {
     "data": {
      "text/plain": [
       "'100joker is a bad man'"
      ]
     },
     "execution_count": 17,
     "metadata": {},
     "output_type": "execute_result"
    }
   ],
   "source": [
    "a=100\n",
    "b=str(a)\n",
    "''.join((b,'joker is a bad man'))"
   ]
  },
  {
   "cell_type": "code",
   "execution_count": 8,
   "metadata": {},
   "outputs": [
    {
     "name": "stdout",
     "output_type": "stream",
     "text": [
      "100\n",
      "100 joker is a bad man\n"
     ]
    }
   ],
   "source": [
    "a=eval(input())\n",
    "print(\"%d joker is a bad man\"%a)"
   ]
  },
  {
   "cell_type": "markdown",
   "metadata": {},
   "source": [
    "## 实例研究：最小数量硬币\n",
    "- 开发一个程序，让用户输入总金额，这是一个用美元和美分表示的浮点值，返回一个由美元、两角五分的硬币、一角的硬币、五分硬币、以及美分个数\n",
    "<img src=\"../Photo/22.png\"></img>"
   ]
  },
  {
   "cell_type": "code",
   "execution_count": 30,
   "metadata": {},
   "outputs": [
    {
     "name": "stdout",
     "output_type": "stream",
     "text": [
      "Ennter an amount,for example 11.56:11.56\n",
      "1156\n",
      "11 2 0 1 1\n"
     ]
    }
   ],
   "source": [
    "amount = eval(input('Ennter an amount,for example 11.56:'))\n",
    "remainingAmount = int(amount * 100)\n",
    "print(remainingAmount)\n",
    "numberOfOneDollars = remainingAmount //100\n",
    "remainingAmount = remainingAmount % 100\n",
    "numberOfQuarters = remainingAmount // 25\n",
    "remainingAmount = remainingAmount % 25\n",
    "numberOfDimes = remainingAmount // 10\n",
    "remainingAmount = remainingAmount % 10\n",
    "numberOfNickls = remainingAmount // 5\n",
    "remainingAmount = remainingAmount % 5\n",
    "numberOfPenies = remainingAmount\n",
    "print(numberOfOneDollars,numberOfQuarters,numberOfDimes,numberOfNickls,numberOfPenies)"
   ]
  },
  {
   "cell_type": "markdown",
   "metadata": {},
   "source": [
    "- Python弱项，对于浮点型的处理并不是很好，但是处理数据的时候使用的是Numpy类型\n",
    "<img src=\"../Photo/23.png\"></img>"
   ]
  },
  {
   "cell_type": "code",
   "execution_count": 1,
   "metadata": {},
   "outputs": [
    {
     "name": "stdout",
     "output_type": "stream",
     "text": [
      "Ennter an amount,for example 11.56:1003\n",
      "1003\n",
      "10 0 0 0 3\n"
     ]
    }
   ],
   "source": [
    "remainingAmount = eval(input('Ennter an amount,for example 11.56:'))\n",
    "print(remainingAmount)\n",
    "numberOfOneDollars = remainingAmount //100\n",
    "remainingAmount = remainingAmount % 100\n",
    "numberOfQuarters = remainingAmount // 25\n",
    "remainingAmount = remainingAmount % 25\n",
    "numberOfDimes = remainingAmount // 10\n",
    "remainingAmount = remainingAmount % 10\n",
    "numberOfNickls = remainingAmount // 5\n",
    "remainingAmount = remainingAmount % 5\n",
    "numberOfPenies = remainingAmount\n",
    "print(numberOfOneDollars,numberOfQuarters,numberOfDimes,numberOfNickls,numberOfPenies)"
   ]
  },
  {
   "cell_type": "markdown",
   "metadata": {},
   "source": [
    "## id与type\n",
    "- id 查看内存地址，在判断语句中将会使用\n",
    "- type 查看元素类型"
   ]
  },
  {
   "cell_type": "code",
   "execution_count": 18,
   "metadata": {},
   "outputs": [
    {
     "data": {
      "text/plain": [
       "1721793088"
      ]
     },
     "execution_count": 18,
     "metadata": {},
     "output_type": "execute_result"
    }
   ],
   "source": [
    "a=100\n",
    "id(a)"
   ]
  },
  {
   "cell_type": "code",
   "execution_count": 19,
   "metadata": {},
   "outputs": [
    {
     "data": {
      "text/plain": [
       "True"
      ]
     },
     "execution_count": 19,
     "metadata": {},
     "output_type": "execute_result"
    }
   ],
   "source": [
    "100 is 100 #判断的是内存地址"
   ]
  },
  {
   "cell_type": "markdown",
   "metadata": {},
   "source": [
    "## 其他格式化语句见书"
   ]
  },
  {
   "cell_type": "markdown",
   "metadata": {},
   "source": [
    "# Homework\n",
    "- 1\n",
    "<img src=\"../Photo/24.png\"><img>\n",
    "<img src=\"../Photo/25.png\"><img>"
   ]
  },
  {
   "cell_type": "code",
   "execution_count": 21,
   "metadata": {},
   "outputs": [
    {
     "name": "stdout",
     "output_type": "stream",
     "text": [
      "Enter the length from the center to a vertex :5.5\n",
      "The area of the pentagon is 71.92\n"
     ]
    }
   ],
   "source": [
    "import math\n",
    "r=eval(input('Enter the length from the center to a vertex :'))\n",
    "s=2*r*math.sin(math.pi/5)\n",
    "area=5*s*s/(4*math.tan(math.pi/5))\n",
    "print(\"The area of the pentagon is %.2f\"% area)"
   ]
  },
  {
   "cell_type": "markdown",
   "metadata": {},
   "source": [
    "- 2\n",
    "<img src=\"../Photo/26.png\"><img>"
   ]
  },
  {
   "cell_type": "code",
   "execution_count": 5,
   "metadata": {},
   "outputs": [
    {
     "name": "stdout",
     "output_type": "stream",
     "text": [
      "Enter point 1(latitude and longitude)in degrees:39.55,-116.25\n",
      "Enter point 2(latitude and longitude)in degrees:41.5,87.37\n",
      "The distance between the two points is 10691.79183231593\n"
     ]
    }
   ],
   "source": [
    "import math\n",
    "x1,y1=eval(input('Enter point 1(latitude and longitude)in degrees:'))\n",
    "x2,y2=eval(input('Enter point 2(latitude and longitude)in degrees:'))\n",
    "m1=math.radians(x1)\n",
    "n1=math.radians(y1)\n",
    "m2=math.radians(x2)\n",
    "n2=math.radians(y2)\n",
    "juli=6371.01*math.acos(math.sin(m1)*math.sin(m2)+math.cos(m1)*math.cos(m2)*math.cos(n1-n2))\n",
    "print(\"The distance between the two points is %.11f\"%juli)\n"
   ]
  },
  {
   "cell_type": "markdown",
   "metadata": {},
   "source": [
    "- 3\n",
    "<img src=\"../Photo/27.png\"><img>"
   ]
  },
  {
   "cell_type": "code",
   "execution_count": 6,
   "metadata": {},
   "outputs": [
    {
     "name": "stdout",
     "output_type": "stream",
     "text": [
      "Enter the side:5.5\n",
      "The area of the pentagon is 52.04444136781625\n"
     ]
    }
   ],
   "source": [
    "import math\n",
    "s=eval(input('Enter the side:'))\n",
    "area=5*s*s/(4*math.tan(math.pi/5))\n",
    "print(\"The area of the pentagon is %.14f\"% area)"
   ]
  },
  {
   "cell_type": "markdown",
   "metadata": {},
   "source": [
    "- 4\n",
    "<img src=\"../Photo/28.png\"><img>"
   ]
  },
  {
   "cell_type": "code",
   "execution_count": 7,
   "metadata": {},
   "outputs": [
    {
     "name": "stdout",
     "output_type": "stream",
     "text": [
      "Enter the number of sides:5\n",
      "Enter the side:6.5\n",
      "The area of the pentagon is 72.69017017488386\n"
     ]
    }
   ],
   "source": [
    "import math\n",
    "n=eval(input('Enter the number of sides:'))\n",
    "s=eval(input('Enter the side:'))\n",
    "area=n*s*s/(4*math.tan(math.pi/n))\n",
    "print(\"The area of the pentagon is %.14f\"% area)"
   ]
  },
  {
   "cell_type": "markdown",
   "metadata": {},
   "source": [
    "- 5\n",
    "<img src=\"../Photo/29.png\"><img>\n",
    "<img src=\"../Photo/30.png\"><img>"
   ]
  },
  {
   "cell_type": "code",
   "execution_count": 10,
   "metadata": {},
   "outputs": [
    {
     "name": "stdout",
     "output_type": "stream",
     "text": [
      "Enter an ASCII code:69\n",
      "The character is E \n"
     ]
    }
   ],
   "source": [
    "import math\n",
    "n=eval(input('Enter an ASCII code:'))\n",
    "code=chr(n)\n",
    "print(\"The character is %s \"% code)"
   ]
  },
  {
   "cell_type": "markdown",
   "metadata": {},
   "source": [
    "- 6\n",
    "<img src=\"../Photo/31.png\"><img>"
   ]
  },
  {
   "cell_type": "code",
   "execution_count": 9,
   "metadata": {},
   "outputs": [
    {
     "name": "stdout",
     "output_type": "stream",
     "text": [
      "Enter employee's name:smith\n",
      "Enter number of hours worked in a week:10\n",
      "Enter hourly pay rate:9.75\n",
      "Enter federal tax withholding rate:0.20\n",
      "Enter state tax withholding rate:0.09\n",
      "19.5\n",
      "8.775\n",
      "28.275\n",
      "69.225\n",
      "Employee Name:smith\n",
      "Hours Worked:10.0\n",
      "Pay Rate:9.75\n",
      "Gross Pay:97.5\n",
      "Deduction:\n",
      "  Federal Withholding(20.0%):19.5\n",
      "  State Withholding(9.0%):8.78\n",
      "  Total Deduction:28.27\n",
      "Net Pay69.22:\n"
     ]
    }
   ],
   "source": [
    "import math\n",
    "name=str(input('Enter employee\\'s name:'))\n",
    "hours=eval(input('Enter number of hours worked in a week:'))\n",
    "rate=eval(input('Enter hourly pay rate:'))\n",
    "federalrate=eval(input('Enter federal tax withholding rate:'))\n",
    "staterate=eval(input('Enter state tax withholding rate:'))\n",
    "grosspay=hours*rate\n",
    "federalwithholding=grosspay*federalrate\n",
    "print(federalwithholding)\n",
    "statewithholding=grosspay*staterate\n",
    "print(statewithholding)\n",
    "Deduction=federalwithholding+statewithholding\n",
    "print(Deduction)\n",
    "Netpay=grosspay-Deduction\n",
    "print(Netpay)\n",
    "print(\"Employee Name:\"+ name)\n",
    "print(\"Hours Worked:%.1f\"%hours)\n",
    "print(\"Pay Rate:%.2f\"%rate)\n",
    "print(\"Gross Pay:%.1f\"%grosspay)\n",
    "print(\"Deduction:\")\n",
    "print(\"  Federal Withholding(20.0%%):%.1f\"%federalwithholding)\n",
    "print(\"  State Withholding(9.0%%):%.2f\"%statewithholding)\n",
    "print(\"  Total Deduction:%.2f\"%Deduction)\n",
    "print(\"Net Pay%.2f:\"%Netpay)      "
   ]
  },
  {
   "cell_type": "markdown",
   "metadata": {},
   "source": [
    "- 7\n",
    "<img src=\"../Photo/32.png\"><img>"
   ]
  },
  {
   "cell_type": "code",
   "execution_count": 18,
   "metadata": {},
   "outputs": [
    {
     "name": "stdout",
     "output_type": "stream",
     "text": [
      "Enter an integer :3125\n",
      "The reversed number is 5213\n"
     ]
    }
   ],
   "source": [
    "input_number =eval(input('Enter an integer :'))\n",
    "qian = input_number //1000\n",
    "bai = input_number //100 % 10\n",
    "shi = input_number//10 % 10\n",
    "ge=input_number % 10\n",
    "reverse_number=qian+bai*10+shi*100+ge*1000\n",
    "print(\"The reversed number is %d\"%reverse_number)"
   ]
  },
  {
   "cell_type": "markdown",
   "metadata": {},
   "source": [
    "- 8 进阶：\n",
    "> 加密一串文本，并将解密后的文件写入本地保存"
   ]
  }
 ],
 "metadata": {
  "kernelspec": {
   "display_name": "Python 3",
   "language": "python",
   "name": "python3"
  }
 },
 "nbformat": 4,
 "nbformat_minor": 2
}
