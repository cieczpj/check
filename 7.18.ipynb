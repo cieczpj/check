{
 "cells": [
  {
   "cell_type": "markdown",
   "metadata": {},
   "source": [
    "# 选择\n",
    "## 布尔类型、数值和表达式\n",
    "![](../Photo/33.png)\n",
    "- 注意：比较运算符的相等是两个等到，一个等到代表赋值\n",
    "- 在Python中可以用整型0来代表False，其他数字来代表True\n",
    "- 后面还会讲到 is 在判断语句中的用发"
   ]
  },
  {
   "cell_type": "markdown",
   "metadata": {},
   "source": [
    "## EP:\n",
    "- <img src=\"../Photo/34.png\"></img>\n",
    "- 输入一个数字，判断其实奇数还是偶数"
   ]
  },
  {
   "cell_type": "code",
   "execution_count": 5,
   "metadata": {},
   "outputs": [
    {
     "name": "stdout",
     "output_type": "stream",
     "text": [
      "1\n",
      "0\n",
      "True\n",
      "False\n"
     ]
    }
   ],
   "source": [
    "i=int(True)\n",
    "j=int(False)\n",
    "b1=bool(4)\n",
    "b2=bool(0)\n",
    "print(i)\n",
    "print(j)\n",
    "print(b1)\n",
    "print(b2)"
   ]
  },
  {
   "cell_type": "code",
   "execution_count": 16,
   "metadata": {},
   "outputs": [
    {
     "name": "stdout",
     "output_type": "stream",
     "text": [
      "33567\n",
      "奇数\n"
     ]
    }
   ],
   "source": [
    "a=eval(input())\n",
    "if(a%2)==0:\n",
    "    print(\"偶数\")\n",
    "else:\n",
    "      print(\"奇数\")   \n",
    "\n"
   ]
  },
  {
   "cell_type": "markdown",
   "metadata": {},
   "source": [
    "## 产生随机数字\n",
    "- 函数random.randint(a,b) 可以用来产生一个a和b之间且包括a和b的随机整数"
   ]
  },
  {
   "cell_type": "code",
   "execution_count": 3,
   "metadata": {},
   "outputs": [
    {
     "name": "stdout",
     "output_type": "stream",
     "text": [
      "1\n"
     ]
    }
   ],
   "source": [
    "import random\n",
    "m=random.randint(0,2)#返回随机int型数值，包括边界值\n",
    "print(m)"
   ]
  },
  {
   "cell_type": "markdown",
   "metadata": {},
   "source": [
    "## EP：\n",
    "- 产生两个随机整数number1和number2，然后显示给用户，使用户输入数字，并判定其是否正确\n",
    "- 进阶:写一个随机序号点名程序"
   ]
  },
  {
   "cell_type": "code",
   "execution_count": 52,
   "metadata": {},
   "outputs": [
    {
     "name": "stdout",
     "output_type": "stream",
     "text": [
      "7 3\n",
      "请输入两个数字的和7,3\n",
      "9\n",
      "错误\n"
     ]
    }
   ],
   "source": [
    "import random\n",
    "m1=random.randint(0,10)\n",
    "m2=random.randint(0,9)\n",
    "print(m1,m2)\n",
    "m3=eval(input('请输入两个数字的和%d,%d\\n'%(m1,m2)))\n",
    "if m3==m1+m2:\n",
    "    print(\"正确\")\n",
    "else:\n",
    "    print(\"错误\")\n",
    "\n"
   ]
  },
  {
   "cell_type": "code",
   "execution_count": 80,
   "metadata": {},
   "outputs": [
    {
     "name": "stdout",
     "output_type": "stream",
     "text": [
      "学生位置 4 3\n"
     ]
    }
   ],
   "source": [
    "import random\n",
    "m1=random.randint(1,4)\n",
    "if m1<2:\n",
    "    m2=str(random.randint(1,4))\n",
    "else:\n",
    "    m2=str(random.randint(1,3))\n",
    "m3=str(m1)\n",
    "print(''.join('学生位置'),m3,m2)"
   ]
  },
  {
   "cell_type": "markdown",
   "metadata": {},
   "source": [
    "##  其他random方法\n",
    "- random.random 返回0.0到1.0之间前闭后开区间的随机浮点\n",
    "- random.randrange(a,b) 前闭后开"
   ]
  },
  {
   "cell_type": "code",
   "execution_count": 73,
   "metadata": {},
   "outputs": [
    {
     "name": "stdout",
     "output_type": "stream",
     "text": [
      "4\n"
     ]
    }
   ],
   "source": [
    "import random\n",
    "m=random.randrange(0,10,1)\n",
    "print(m)"
   ]
  },
  {
   "cell_type": "code",
   "execution_count": 74,
   "metadata": {},
   "outputs": [
    {
     "name": "stdout",
     "output_type": "stream",
     "text": [
      "0.49221795551062575\n"
     ]
    }
   ],
   "source": [
    "import random\n",
    "m=random.random()\n",
    "print(m)"
   ]
  },
  {
   "cell_type": "markdown",
   "metadata": {},
   "source": [
    "## if语句\n",
    "- 如果条件正确就执行一个单向if语句，亦即当条件为真的时候才执行if内部的语句\n",
    "- Python有很多选择语句:\n",
    "> - 单向if \n",
    "  - 双向if-else\n",
    "  - 嵌套if\n",
    "  - 多向if-elif-else\n",
    "  \n",
    "- 注意：当语句含有子语句的时候，那么一定至少要有一个缩进，也就是说如果有儿子存在，那么一定要缩进\n",
    "- 切记不可table键和space混用，单用table 或者 space\n",
    "- 当你输出的结果是无论if是否为真时都需要显示时，语句应该与if对齐"
   ]
  },
  {
   "cell_type": "markdown",
   "metadata": {},
   "source": [
    "## EP：\n",
    "- 用户输入一个数字，判断其实奇数还是偶数\n",
    "- 进阶：可以查看下4.5实例研究猜生日"
   ]
  },
  {
   "cell_type": "markdown",
   "metadata": {},
   "source": [
    "## 双向if-else 语句\n",
    "- 如果条件为真，那么走if内部语句，否则走else内部语句"
   ]
  },
  {
   "cell_type": "markdown",
   "metadata": {},
   "source": [
    "## EP：\n",
    "- 产生两个随机整数number1和number2，然后显示给用户，使用户输入数字，并判定其是否正确,如果正确打印“you‘re correct”，否则打印正确答案"
   ]
  },
  {
   "cell_type": "markdown",
   "metadata": {},
   "source": [
    "## 嵌套if 和多向if-elif-else\n",
    "![](../Photo/35.png)"
   ]
  },
  {
   "cell_type": "code",
   "execution_count": 81,
   "metadata": {},
   "outputs": [
    {
     "name": "stdout",
     "output_type": "stream",
     "text": [
      "学生分数85\n",
      "B\n"
     ]
    }
   ],
   "source": [
    "score=eval(input('学生分数'))\n",
    "if score>=90.0:\n",
    "    grade='A'\n",
    "elif score>=80.0:\n",
    "    grade='B'\n",
    "elif score>=70.0:\n",
    "    grade='C'\n",
    "elif score>=60.0:\n",
    "    grade='D'\n",
    "else:\n",
    "    grade='E'\n",
    "print(grade)       \n",
    "        "
   ]
  },
  {
   "cell_type": "code",
   "execution_count": 84,
   "metadata": {},
   "outputs": [
    {
     "name": "stdout",
     "output_type": "stream",
     "text": [
      "学生分数94\n",
      "A\n"
     ]
    }
   ],
   "source": [
    "score=eval(input('学生分数'))\n",
    "if score>=90.0:\n",
    "    print('A')\n",
    "elif score>=80.0:\n",
    "    print('B')\n",
    "elif score>=70.0:\n",
    "    print('C')\n",
    "elif score>=60.0:\n",
    "    print('D')\n",
    "else:\n",
    "    print('E')       \n",
    "        "
   ]
  },
  {
   "cell_type": "markdown",
   "metadata": {},
   "source": [
    "## EP：\n",
    "- 提示用户输入一个年份，然后显示表示这一年的动物\n",
    "![](../Photo/36.png)\n",
    "- 计算身体质量指数的程序\n",
    "- BMI = 以千克为单位的体重除以以米为单位的身高\n",
    "![](../Photo/37.png)"
   ]
  },
  {
   "cell_type": "code",
   "execution_count": 83,
   "metadata": {},
   "outputs": [
    {
     "name": "stdout",
     "output_type": "stream",
     "text": [
      "输入年份1968\n",
      "猴\n"
     ]
    }
   ],
   "source": [
    "year=eval(input('输入年份'))\n",
    "shenxiao=year%12\n",
    "if shenxiao==0:\n",
    "    print('猴')\n",
    "elif shenxiao==1:\n",
    "    print('鸡')\n",
    "elif shenxiao==2:\n",
    "    print('狗')\n",
    "elif shenxiao==3:\n",
    "    print('猪')\n",
    "elif shenxiao==4:\n",
    "    print('鼠')\n",
    "elif shenxiao==5:\n",
    "    print('牛')\n",
    "elif shenxiao==6:\n",
    "    print('虎')\n",
    "elif shenxiao==7:\n",
    "    print('兔')\n",
    "elif shenxiao==8:\n",
    "    print('龙')\n",
    "elif shenxiao==9:\n",
    "    print('蛇')\n",
    "elif shenxiao==10:\n",
    "    print('马')\n",
    "else:\n",
    "     print('羊')"
   ]
  },
  {
   "cell_type": "markdown",
   "metadata": {},
   "source": [
    "## 逻辑运算符\n",
    "![](../Photo/38.png)"
   ]
  },
  {
   "cell_type": "markdown",
   "metadata": {},
   "source": [
    "![](../Photo/39.png)\n",
    "![](../Photo/40.png)"
   ]
  },
  {
   "cell_type": "markdown",
   "metadata": {},
   "source": [
    "## EP：\n",
    "- 判定闰年：一个年份如果能被4整除但不能被100整除，或者能被400整除，那么这个年份就是闰年\n",
    "- 提示用户输入一个年份，并返回是否是闰年\n",
    "- 提示用户输入一个数字，判断其是否为水仙花数"
   ]
  },
  {
   "cell_type": "code",
   "execution_count": 87,
   "metadata": {},
   "outputs": [
    {
     "name": "stdout",
     "output_type": "stream",
     "text": [
      "输入年份2017\n",
      "不是闰年\n"
     ]
    }
   ],
   "source": [
    "year=eval(input('输入年份'))\n",
    "if (year%400==0)or((year%4==0)and(year%100!=0)):\n",
    "    print('闰年')\n",
    "else:\n",
    "    print('不是闰年')    \n",
    "    \n"
   ]
  },
  {
   "cell_type": "markdown",
   "metadata": {},
   "source": [
    "## 实例研究：彩票\n",
    "![](../Photo/41.png)"
   ]
  },
  {
   "cell_type": "markdown",
   "metadata": {},
   "source": [
    "# Homework\n",
    "- 1\n",
    "![](../Photo/42.png)"
   ]
  },
  {
   "cell_type": "code",
   "execution_count": 103,
   "metadata": {},
   "outputs": [
    {
     "name": "stdout",
     "output_type": "stream",
     "text": [
      "Enter a,b,c:1,2,3\n",
      "The equation has no real roots \n"
     ]
    }
   ],
   "source": [
    "import math\n",
    "a,b,c=eval(input('Enter a,b,c:'))\n",
    "delta=b*b-4*a*c\n",
    "if delta>0:\n",
    "    r1=(-b+math.sqrt(delta))/(2*a)\n",
    "    r2=(-b-math.sqrt(delta))/(2*a)\n",
    "    print(\"The roots are %.6f and %.6f\"%(r1,r2))\n",
    "elif delta==0:\n",
    "    r=(-b)/(2*a)\n",
    "    print(\"The roots is %d\"%r)\n",
    "else:\n",
    "    print(\"The equation has no real roots \")\n",
    "    \n",
    "    "
   ]
  },
  {
   "cell_type": "markdown",
   "metadata": {},
   "source": [
    "- 2\n",
    "![](../Photo/43.png)"
   ]
  },
  {
   "cell_type": "code",
   "execution_count": 107,
   "metadata": {},
   "outputs": [
    {
     "name": "stdout",
     "output_type": "stream",
     "text": [
      "请输入两个数字的和52,100\n",
      "152\n",
      "True\n"
     ]
    }
   ],
   "source": [
    "import random\n",
    "m1=random.randint(0,100)\n",
    "m2=random.randint(0,100)\n",
    "m3=eval(input('请输入两个数字的和%d,%d\\n'%(m1,m2)))\n",
    "if m3==m1+m2:\n",
    "    print(\"True\")\n",
    "else:\n",
    "    print(\"False\")"
   ]
  },
  {
   "cell_type": "markdown",
   "metadata": {},
   "source": [
    "- 3\n",
    "![](../Photo/44.png)"
   ]
  },
  {
   "cell_type": "code",
   "execution_count": 109,
   "metadata": {},
   "outputs": [
    {
     "name": "stdout",
     "output_type": "stream",
     "text": [
      "Enter today's day:5\n",
      "Enter the number of day's elapsed since today:3\n",
      "Today is Friday and the future day is Monday\n"
     ]
    }
   ],
   "source": [
    "day=eval(input('Enter today\\'s day:'))\n",
    "num=eval(input('Enter the number of day\\'s elapsed since today:'))\n",
    "today=day%7\n",
    "future=(today+num)%7\n",
    "if today==0:\n",
    "    d1=\"Sunday\" \n",
    "elif today==1:\n",
    "    d1=\"Monday\" \n",
    "elif today==2:\n",
    "     d1=\"Tuesday\"\n",
    "elif today==3:\n",
    "     d1=\"Wednesday\"\n",
    "elif today==4:\n",
    "    d1=\"Thursday\"\n",
    "elif today==5:\n",
    "    d1=\"Friday\"\n",
    "elif today==6:\n",
    "    d1=\"Saterday\"\n",
    "if future==0:\n",
    "    d2=\"Sunday\" \n",
    "elif future==1:\n",
    "    d2=\"Monday\" \n",
    "elif future==2:\n",
    "     d2=\"Tuesday\"\n",
    "elif future==3:\n",
    "     d2=\"Wednesday\"\n",
    "elif future==4:\n",
    "    d2=\"Thursday\"\n",
    "elif future==5:\n",
    "    d2=\"Friday\"\n",
    "elif future==6:\n",
    "    d2=\"Saterday\" \n",
    "print(\"Today is %s and the future day is %s\"%(d1,d2))  \n",
    "   "
   ]
  },
  {
   "cell_type": "markdown",
   "metadata": {},
   "source": [
    "- 4\n",
    "![](../Photo/45.png)"
   ]
  },
  {
   "cell_type": "code",
   "execution_count": 111,
   "metadata": {},
   "outputs": [
    {
     "name": "stdout",
     "output_type": "stream",
     "text": [
      "Enter a,b,c:9,7,8\n",
      "7 8 9\n"
     ]
    }
   ],
   "source": [
    "import math\n",
    "a,b,c=eval(input('Enter a,b,c:'))\n",
    "if a>b>c:\n",
    "    print(c,b,a)\n",
    "elif a>c>b:\n",
    "    print(b,c,a)\n",
    "elif b>c>a:\n",
    "    print(a,c,b)\n",
    "elif b>a>c:\n",
    "    print(c,a,b)\n",
    "elif c>a>b:\n",
    "    print(b,a,c)\n",
    "elif c>b>a:\n",
    "    print(a,b,c)  \n",
    "    \n"
   ]
  },
  {
   "cell_type": "markdown",
   "metadata": {},
   "source": [
    "- 5\n",
    "![](../Photo/46.png)"
   ]
  },
  {
   "cell_type": "code",
   "execution_count": 113,
   "metadata": {},
   "outputs": [
    {
     "name": "stdout",
     "output_type": "stream",
     "text": [
      "Enter a,b:50,24.59\n",
      "Enter a,b:25,11.99\n",
      "Package 2 has the better price\n"
     ]
    }
   ],
   "source": [
    "import math\n",
    "a1,b1=eval(input('Enter a,b:'))\n",
    "a2,b2=eval(input('Enter a,b:'))\n",
    "if (b1/a1)>=(b2/a2):\n",
    "    p=\"Package 2\"\n",
    "else:\n",
    "     p=\"Package 1\"\n",
    "print(\"%s has the better price\"%p)\n",
    "\n"
   ]
  },
  {
   "cell_type": "markdown",
   "metadata": {},
   "source": [
    "- 6\n",
    "![](../Photo/47.png)"
   ]
  },
  {
   "cell_type": "code",
   "execution_count": 14,
   "metadata": {},
   "outputs": [
    {
     "name": "stdout",
     "output_type": "stream",
     "text": [
      "Enter a,b:2,2000\n",
      "2000 年 2 月有 29 天\n"
     ]
    }
   ],
   "source": [
    "import math\n",
    "a1,b1=eval(input('Enter a,b:'))\n",
    "if (b1%400==0)or((b1%4==0)and(b1%100!=0)):\n",
    "    if a1==2:\n",
    "         c1=29\n",
    "    elif a1==1 and a1==3 and a1==5 and a1==7 and a1==8 and a1==10 and a1==12:\n",
    "          \n",
    "            c1=31\n",
    "    else:   c1=30    \n",
    "else:\n",
    "    if a1==2:\n",
    "           c1=28\n",
    "    elif a1==1 and a1==3 and a1==5 and a1==7 and a1==8 and a1==10 and a1==12:\n",
    "            c1=31\n",
    "            p==1\n",
    "    else:  c1=30 \n",
    "\n",
    "print(\"%d 年 %d 月有 %d 天\"%(b1,a1,c1))\n",
    "    \n"
   ]
  },
  {
   "cell_type": "markdown",
   "metadata": {},
   "source": [
    "- 7\n",
    "![](../Photo/48.png)"
   ]
  },
  {
   "cell_type": "markdown",
   "metadata": {},
   "source": [
    "- 8\n",
    "![](../Photo/49.png)"
   ]
  },
  {
   "cell_type": "markdown",
   "metadata": {},
   "source": [
    "- 9\n",
    "![](../Photo/50.png)"
   ]
  },
  {
   "cell_type": "markdown",
   "metadata": {},
   "source": [
    "- 10\n",
    "![](../Photo/51.png)"
   ]
  },
  {
   "cell_type": "markdown",
   "metadata": {},
   "source": [
    "- 11\n",
    "![](../Photo/52.png)"
   ]
  },
  {
   "cell_type": "markdown",
   "metadata": {},
   "source": [
    "- 12\n",
    "![](../Photo/53.png)"
   ]
  },
  {
   "cell_type": "code",
   "execution_count": 91,
   "metadata": {},
   "outputs": [
    {
     "name": "stdout",
     "output_type": "stream",
     "text": [
      "Enter three edges:1,1,1\n",
      "The perimeter is 3\n"
     ]
    }
   ],
   "source": [
    "import math\n",
    "a,b,c=eval(input('Enter three edges:'))\n",
    "if (a+b)>c and (b+c)>a and(a+c)>b:\n",
    "    perimeter=a+b+c\n",
    "    print(\"The perimeter is %d\"%perimeter)\n",
    "else:\n",
    "    print(\"The input is illegal\")\n"
   ]
  }
 ],
 "metadata": {
  "kernelspec": {
   "display_name": "Python 3",
   "language": "python",
   "name": "python3"
  },
  "language_info": {
   "codemirror_mode": {
    "name": "ipython",
    "version": 3
   },
   "file_extension": ".py",
   "mimetype": "text/x-python",
   "name": "python",
   "nbconvert_exporter": "python",
   "pygments_lexer": "ipython3",
   "version": "3.6.4"
  }
 },
 "nbformat": 4,
 "nbformat_minor": 2
}
