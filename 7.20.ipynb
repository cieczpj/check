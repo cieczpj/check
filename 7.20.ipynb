{
 "cells": [
  {
   "cell_type": "markdown",
   "metadata": {},
   "source": [
    "# 函数\n",
    "\n",
    "- 函数可以用来定义可重复代码，组织和简化\n",
    "- 一般来说一个函数在实际开发中为一个小功能\n",
    "- 一个类为一个大功能\n",
    "- 同样函数的长度不要超过一屏"
   ]
  },
  {
   "cell_type": "code",
   "execution_count": 3,
   "metadata": {},
   "outputs": [],
   "source": [
    "def ciec():\n",
    "    \n",
    "    '''\n",
    "    这是一个测试函数\n",
    "    '''\n",
    "    n=eval(input(\"Enter an integer:\"))\n",
    "    m=n*n*n\n",
    "    print(m)    "
   ]
  },
  {
   "cell_type": "code",
   "execution_count": 4,
   "metadata": {},
   "outputs": [
    {
     "name": "stdout",
     "output_type": "stream",
     "text": [
      "Enter an integer:5\n",
      "125\n"
     ]
    }
   ],
   "source": [
    "ciec()\n"
   ]
  },
  {
   "cell_type": "code",
   "execution_count": 18,
   "metadata": {},
   "outputs": [],
   "source": [
    "def ciecz():\n",
    "    \n",
    "    '''\n",
    "    这是一个测试函数\n",
    "    '''\n",
    "    n=eval(input(\"Enter an integer:\"))\n",
    "    return n    "
   ]
  },
  {
   "cell_type": "code",
   "execution_count": 20,
   "metadata": {},
   "outputs": [
    {
     "name": "stdout",
     "output_type": "stream",
     "text": [
      "Enter an integer:5\n",
      "125\n"
     ]
    }
   ],
   "source": [
    "b=ciecz()\n",
    "m=b*b*b\n",
    "print(m)"
   ]
  },
  {
   "cell_type": "markdown",
   "metadata": {},
   "source": [
    "###\n",
    "函数返回多个值用，分隔"
   ]
  },
  {
   "cell_type": "code",
   "execution_count": 38,
   "metadata": {},
   "outputs": [],
   "source": [
    "def ciecz():\n",
    "    n=eval(input(\"Enter an integer:\"))\n",
    "    return n    \n",
    "        \n",
    "    "
   ]
  },
  {
   "cell_type": "code",
   "execution_count": 39,
   "metadata": {},
   "outputs": [],
   "source": [
    "def pingf(n):\n",
    "    m=n*n\n",
    "    return m "
   ]
  },
  {
   "cell_type": "code",
   "execution_count": 40,
   "metadata": {},
   "outputs": [
    {
     "name": "stdout",
     "output_type": "stream",
     "text": [
      "Enter an integer:6\n",
      "36\n"
     ]
    }
   ],
   "source": [
    "a=shuru()\n",
    "b=pingf(a)\n",
    "print(b)"
   ]
  },
  {
   "cell_type": "markdown",
   "metadata": {},
   "source": [
    "## 定义一个函数\n",
    "\n",
    "def function_name(list of parameters):\n",
    "    \n",
    "    do something\n",
    "![](../Photo/69.png)\n",
    "- 以前使用的random 或者range 或者print.. 其实都是函数或者类"
   ]
  },
  {
   "cell_type": "markdown",
   "metadata": {},
   "source": [
    "## 调用一个函数\n",
    "- functionName()\n",
    "- \"()\" 就代表调用"
   ]
  },
  {
   "cell_type": "markdown",
   "metadata": {},
   "source": [
    "![](../Photo/70.png)"
   ]
  },
  {
   "cell_type": "markdown",
   "metadata": {},
   "source": [
    "## 带返回值和不带返回值的函数\n",
    "- return 返回的内容\n",
    "- return 返回多个值\n",
    "- 一般情况下，在多个函数协同完成一个功能的时候，那么将会有返回值"
   ]
  },
  {
   "cell_type": "markdown",
   "metadata": {},
   "source": [
    "![](../Photo/71.png)\n",
    "\n",
    "- 当然也可以自定义返回None"
   ]
  },
  {
   "cell_type": "markdown",
   "metadata": {},
   "source": [
    "## EP：\n",
    "![](../Photo/72.png)"
   ]
  },
  {
   "cell_type": "code",
   "execution_count": 52,
   "metadata": {},
   "outputs": [],
   "source": [
    "def jishu():\n",
    "    for i in range(1,10,2):\n",
    "        print('奇数',i)\n",
    "        oushu(i)\n",
    "    return   "
   ]
  },
  {
   "cell_type": "code",
   "execution_count": 53,
   "metadata": {},
   "outputs": [],
   "source": [
    "def oushu(i):\n",
    "    print('偶数',i+1)\n",
    "    return   "
   ]
  },
  {
   "cell_type": "code",
   "execution_count": 54,
   "metadata": {},
   "outputs": [
    {
     "name": "stdout",
     "output_type": "stream",
     "text": [
      "奇数 1\n",
      "偶数 2\n",
      "奇数 3\n",
      "偶数 4\n",
      "奇数 5\n",
      "偶数 6\n",
      "奇数 7\n",
      "偶数 8\n",
      "奇数 9\n",
      "偶数 10\n"
     ]
    }
   ],
   "source": [
    "jishu()\n"
   ]
  },
  {
   "cell_type": "code",
   "execution_count": 10,
   "metadata": {},
   "outputs": [],
   "source": [
    "account=None\n",
    "pssword=None\n",
    "def regist(p1,p2):\n",
    "    global account,pssword\n",
    "    account=p1\n",
    "    pssword=p2\n",
    "    print(account,pssword)\n",
    "def login(p1,p2):\n",
    "    if account==p1 and pssword==p2:\n",
    "        print('login success')\n",
    "    else:\n",
    "        print('Error')\n",
    "def logout():\n",
    "    global account,pssword\n",
    "    account=None\n",
    "    pssword=None\n",
    "    "
   ]
  },
  {
   "cell_type": "code",
   "execution_count": 8,
   "metadata": {},
   "outputs": [
    {
     "name": "stdout",
     "output_type": "stream",
     "text": [
      "abbck j23456k\n",
      "Error\n"
     ]
    }
   ],
   "source": [
    "regist('abbck','j23456k')\n",
    "login('abbce','j23456k')\n"
   ]
  },
  {
   "cell_type": "code",
   "execution_count": 9,
   "metadata": {},
   "outputs": [
    {
     "name": "stdout",
     "output_type": "stream",
     "text": [
      "abbck j23456k\n",
      "login success\n"
     ]
    }
   ],
   "source": [
    "regist('abbck','j23456k')\n",
    "login('abbck','j23456k')"
   ]
  },
  {
   "cell_type": "code",
   "execution_count": 12,
   "metadata": {},
   "outputs": [],
   "source": [
    "logout()"
   ]
  },
  {
   "cell_type": "code",
   "execution_count": 13,
   "metadata": {},
   "outputs": [
    {
     "name": "stdout",
     "output_type": "stream",
     "text": [
      "Error\n"
     ]
    }
   ],
   "source": [
    "login('abbck','j23456k')"
   ]
  },
  {
   "cell_type": "code",
   "execution_count": 63,
   "metadata": {},
   "outputs": [],
   "source": [
    "import pymysql\n",
    "\n",
    "\n"
   ]
  },
  {
   "cell_type": "markdown",
   "metadata": {},
   "source": [
    "## 类型和关键字参数\n",
    "- 普通参数\n",
    "- 多个参数\n",
    "- 默认值参数\n",
    "- 不定长参数"
   ]
  },
  {
   "cell_type": "markdown",
   "metadata": {},
   "source": [
    "## 普通参数"
   ]
  },
  {
   "cell_type": "markdown",
   "metadata": {},
   "source": [
    "## 多个参数"
   ]
  },
  {
   "cell_type": "code",
   "execution_count": 65,
   "metadata": {},
   "outputs": [],
   "source": [
    "def test(a,b,c,d,e):\n",
    "    print(a,b,c,d,e)"
   ]
  },
  {
   "cell_type": "code",
   "execution_count": 66,
   "metadata": {
    "scrolled": true
   },
   "outputs": [
    {
     "name": "stdout",
     "output_type": "stream",
     "text": [
      "1 2 3 4 5\n"
     ]
    }
   ],
   "source": [
    "test(1,2,3,4,5)"
   ]
  },
  {
   "cell_type": "code",
   "execution_count": 76,
   "metadata": {
    "scrolled": true
   },
   "outputs": [
    {
     "name": "stdout",
     "output_type": "stream",
     "text": [
      "1 2 3 4 5\n"
     ]
    }
   ],
   "source": [
    "test(1,2,c=3,d=4,e=5)"
   ]
  },
  {
   "cell_type": "code",
   "execution_count": 77,
   "metadata": {},
   "outputs": [
    {
     "name": "stdout",
     "output_type": "stream",
     "text": [
      "1 2 3 100 svc\n"
     ]
    }
   ],
   "source": [
    "test(a=1,b=2,c=3)"
   ]
  },
  {
   "cell_type": "markdown",
   "metadata": {},
   "source": [
    "## 默认值参数"
   ]
  },
  {
   "cell_type": "markdown",
   "metadata": {},
   "source": [
    "强制命名"
   ]
  },
  {
   "cell_type": "code",
   "execution_count": 72,
   "metadata": {},
   "outputs": [],
   "source": [
    "def test(a,b,*,c,d=100,e='svc'):#型号后面在调用函数时必须带函数名称\n",
    "    print(a,b,c,d,e)\n",
    "    "
   ]
  },
  {
   "cell_type": "code",
   "execution_count": 75,
   "metadata": {},
   "outputs": [
    {
     "ename": "SyntaxError",
     "evalue": "invalid character in identifier (<ipython-input-75-600df06c1184>, line 1)",
     "output_type": "error",
     "traceback": [
      "\u001b[1;36m  File \u001b[1;32m\"<ipython-input-75-600df06c1184>\"\u001b[1;36m, line \u001b[1;32m1\u001b[0m\n\u001b[1;33m    test(1,2,*，3,4,5)\u001b[0m\n\u001b[1;37m               ^\u001b[0m\n\u001b[1;31mSyntaxError\u001b[0m\u001b[1;31m:\u001b[0m invalid character in identifier\n"
     ]
    }
   ],
   "source": [
    "test(1,2,*，3,4,5)"
   ]
  },
  {
   "cell_type": "code",
   "execution_count": 70,
   "metadata": {},
   "outputs": [],
   "source": [
    "def test():\n",
    "    for i in range(1,20,2):\n",
    "        print(i*i*i)\n",
    "        print((i+1)**2)        "
   ]
  },
  {
   "cell_type": "code",
   "execution_count": 71,
   "metadata": {},
   "outputs": [
    {
     "name": "stdout",
     "output_type": "stream",
     "text": [
      "1\n",
      "4\n",
      "27\n",
      "16\n",
      "125\n",
      "36\n",
      "343\n",
      "64\n",
      "729\n",
      "100\n",
      "1331\n",
      "144\n",
      "2197\n",
      "196\n",
      "3375\n",
      "256\n",
      "4913\n",
      "324\n",
      "6859\n",
      "400\n"
     ]
    }
   ],
   "source": [
    "test()"
   ]
  },
  {
   "cell_type": "markdown",
   "metadata": {},
   "source": [
    "##不定长参数"
   ]
  },
  {
   "cell_type": "markdown",
   "metadata": {},
   "source": [
    "\\*args\n",
    "- 长度不固定\n",
    "- 返回的类型是元组"
   ]
  },
  {
   "cell_type": "code",
   "execution_count": 78,
   "metadata": {},
   "outputs": [],
   "source": [
    "def test(*args):\n",
    "    print(args)\n",
    "    "
   ]
  },
  {
   "cell_type": "code",
   "execution_count": 79,
   "metadata": {},
   "outputs": [
    {
     "name": "stdout",
     "output_type": "stream",
     "text": [
      "(1, 2, 3, 4, 5, 6)\n"
     ]
    }
   ],
   "source": [
    "test(1,2,3,4,5,6)"
   ]
  },
  {
   "cell_type": "code",
   "execution_count": 85,
   "metadata": {},
   "outputs": [],
   "source": [
    "def test2(**kwargs):\n",
    "    print(kwargs)"
   ]
  },
  {
   "cell_type": "code",
   "execution_count": 88,
   "metadata": {
    "scrolled": true
   },
   "outputs": [
    {
     "name": "stdout",
     "output_type": "stream",
     "text": [
      "{'a': 1, 'b': 2, 'c': 3, 'd': 4, 'e': 5, 'f': 6}\n"
     ]
    }
   ],
   "source": [
    "test2(a=1,b=2,c=3,d=4,e=5,f=6)"
   ]
  },
  {
   "cell_type": "code",
   "execution_count": 89,
   "metadata": {},
   "outputs": [],
   "source": [
    "def res(*args,**kwargs):\n",
    "    print(args)\n",
    "    print(kwargs)"
   ]
  },
  {
   "cell_type": "code",
   "execution_count": 90,
   "metadata": {},
   "outputs": [
    {
     "name": "stdout",
     "output_type": "stream",
     "text": [
      "(1, 2, 3, 4, 6, 7, 8)\n",
      "{'a': 1, 'c': 2}\n"
     ]
    }
   ],
   "source": [
    "res(1,2,3,4,6,7,8,a=1,c=2)"
   ]
  },
  {
   "cell_type": "code",
   "execution_count": 91,
   "metadata": {},
   "outputs": [
    {
     "ename": "SyntaxError",
     "evalue": "positional argument follows keyword argument (<ipython-input-91-b3237f0cc077>, line 1)",
     "output_type": "error",
     "traceback": [
      "\u001b[1;36m  File \u001b[1;32m\"<ipython-input-91-b3237f0cc077>\"\u001b[1;36m, line \u001b[1;32m1\u001b[0m\n\u001b[1;33m    res(1,2,3,4,6,7,8,a=1,c=2,8,9)\u001b[0m\n\u001b[1;37m                             ^\u001b[0m\n\u001b[1;31mSyntaxError\u001b[0m\u001b[1;31m:\u001b[0m positional argument follows keyword argument\n"
     ]
    }
   ],
   "source": [
    "res(1,2,3,4,6,7,8,a=1,c=2,8,9)"
   ]
  },
  {
   "cell_type": "markdown",
   "metadata": {},
   "source": [
    "## 变量的作用域\n",
    "- 局部变量 local\n",
    "- 全局变量 global\n",
    "- globals 函数返回一个全局变量的字典，包括所有导入的变量\n",
    "- locals() 函数会以字典类型返回当前位置的全部局部变量。"
   ]
  },
  {
   "cell_type": "code",
   "execution_count": 5,
   "metadata": {},
   "outputs": [],
   "source": [
    "Mist=0\n",
    "def test4():\n",
    "    global Mist\n",
    "    Mist+=100\n",
    "    print(Mist)"
   ]
  },
  {
   "cell_type": "code",
   "execution_count": 6,
   "metadata": {},
   "outputs": [
    {
     "name": "stdout",
     "output_type": "stream",
     "text": [
      "100\n"
     ]
    }
   ],
   "source": [
    "test4()"
   ]
  },
  {
   "cell_type": "code",
   "execution_count": 4,
   "metadata": {},
   "outputs": [
    {
     "data": {
      "text/plain": [
       "{'In': ['',\n",
       "  'Mist3=100\\ndef test6():\\n    del Mist3\\n    print(Mist3)',\n",
       "  'test6()',\n",
       "  'globals',\n",
       "  'globals()'],\n",
       " 'Mist3': 100,\n",
       " 'Out': {3: <function globals>},\n",
       " '_': <function globals>,\n",
       " '_3': <function globals>,\n",
       " '__': '',\n",
       " '___': '',\n",
       " '__builtin__': <module 'builtins' (built-in)>,\n",
       " '__builtins__': <module 'builtins' (built-in)>,\n",
       " '__doc__': 'Automatically created module for IPython interactive environment',\n",
       " '__loader__': None,\n",
       " '__name__': '__main__',\n",
       " '__package__': None,\n",
       " '__spec__': None,\n",
       " '_dh': ['C:\\\\Users\\\\Administrator\\\\Desktop\\\\cieczpj\\\\doc_all\\\\doc_all\\\\Teacher\\\\Python基础'],\n",
       " '_i': 'globals',\n",
       " '_i1': 'Mist3=100\\ndef test6():\\n    del Mist3\\n    print(Mist3)',\n",
       " '_i2': 'test6()',\n",
       " '_i3': 'globals',\n",
       " '_i4': 'globals()',\n",
       " '_ih': ['',\n",
       "  'Mist3=100\\ndef test6():\\n    del Mist3\\n    print(Mist3)',\n",
       "  'test6()',\n",
       "  'globals',\n",
       "  'globals()'],\n",
       " '_ii': 'test6()',\n",
       " '_iii': 'Mist3=100\\ndef test6():\\n    del Mist3\\n    print(Mist3)',\n",
       " '_oh': {3: <function globals>},\n",
       " 'exit': <IPython.core.autocall.ZMQExitAutocall at 0x5c197f0>,\n",
       " 'get_ipython': <bound method InteractiveShell.get_ipython of <ipykernel.zmqshell.ZMQInteractiveShell object at 0x0000000005BCAAC8>>,\n",
       " 'quit': <IPython.core.autocall.ZMQExitAutocall at 0x5c197f0>,\n",
       " 'test6': <function __main__.test6>}"
      ]
     },
     "execution_count": 4,
     "metadata": {},
     "output_type": "execute_result"
    }
   ],
   "source": [
    "globals()"
   ]
  },
  {
   "cell_type": "code",
   "execution_count": 5,
   "metadata": {},
   "outputs": [
    {
     "data": {
      "text/plain": [
       "{'In': ['',\n",
       "  'Mist3=100\\ndef test6():\\n    del Mist3\\n    print(Mist3)',\n",
       "  'test6()',\n",
       "  'globals',\n",
       "  'globals()',\n",
       "  'locals()'],\n",
       " 'Mist3': 100,\n",
       " 'Out': {3: <function globals>, 4: {...}},\n",
       " '_': {...},\n",
       " '_3': <function globals>,\n",
       " '_4': {...},\n",
       " '__': <function globals>,\n",
       " '___': '',\n",
       " '__builtin__': <module 'builtins' (built-in)>,\n",
       " '__builtins__': <module 'builtins' (built-in)>,\n",
       " '__doc__': 'Automatically created module for IPython interactive environment',\n",
       " '__loader__': None,\n",
       " '__name__': '__main__',\n",
       " '__package__': None,\n",
       " '__spec__': None,\n",
       " '_dh': ['C:\\\\Users\\\\Administrator\\\\Desktop\\\\cieczpj\\\\doc_all\\\\doc_all\\\\Teacher\\\\Python基础'],\n",
       " '_i': 'globals()',\n",
       " '_i1': 'Mist3=100\\ndef test6():\\n    del Mist3\\n    print(Mist3)',\n",
       " '_i2': 'test6()',\n",
       " '_i3': 'globals',\n",
       " '_i4': 'globals()',\n",
       " '_i5': 'locals()',\n",
       " '_ih': ['',\n",
       "  'Mist3=100\\ndef test6():\\n    del Mist3\\n    print(Mist3)',\n",
       "  'test6()',\n",
       "  'globals',\n",
       "  'globals()',\n",
       "  'locals()'],\n",
       " '_ii': 'globals',\n",
       " '_iii': 'test6()',\n",
       " '_oh': {3: <function globals>, 4: {...}},\n",
       " 'exit': <IPython.core.autocall.ZMQExitAutocall at 0x5c197f0>,\n",
       " 'get_ipython': <bound method InteractiveShell.get_ipython of <ipykernel.zmqshell.ZMQInteractiveShell object at 0x0000000005BCAAC8>>,\n",
       " 'quit': <IPython.core.autocall.ZMQExitAutocall at 0x5c197f0>,\n",
       " 'test6': <function __main__.test6>}"
      ]
     },
     "execution_count": 5,
     "metadata": {},
     "output_type": "execute_result"
    }
   ],
   "source": [
    "locals()"
   ]
  },
  {
   "cell_type": "code",
   "execution_count": 9,
   "metadata": {},
   "outputs": [],
   "source": [
    "Mist2=[]\n",
    "def test5():\n",
    "    Mist2.append(100)\n",
    "    print(Mist2)\n",
    "    "
   ]
  },
  {
   "cell_type": "code",
   "execution_count": 10,
   "metadata": {
    "scrolled": true
   },
   "outputs": [
    {
     "name": "stdout",
     "output_type": "stream",
     "text": [
      "[100]\n"
     ]
    }
   ],
   "source": [
    "test5()"
   ]
  },
  {
   "cell_type": "code",
   "execution_count": 1,
   "metadata": {},
   "outputs": [],
   "source": [
    "Mist3=100\n",
    "def test6():\n",
    "    del Mist3\n",
    "    print(Mist3)"
   ]
  },
  {
   "cell_type": "code",
   "execution_count": 2,
   "metadata": {},
   "outputs": [
    {
     "ename": "UnboundLocalError",
     "evalue": "local variable 'Mist3' referenced before assignment",
     "output_type": "error",
     "traceback": [
      "\u001b[1;31m---------------------------------------------------------------------------\u001b[0m",
      "\u001b[1;31mUnboundLocalError\u001b[0m                         Traceback (most recent call last)",
      "\u001b[1;32m<ipython-input-2-b3f44c11fe72>\u001b[0m in \u001b[0;36m<module>\u001b[1;34m()\u001b[0m\n\u001b[1;32m----> 1\u001b[1;33m \u001b[0mtest6\u001b[0m\u001b[1;33m(\u001b[0m\u001b[1;33m)\u001b[0m\u001b[1;33m\u001b[0m\u001b[0m\n\u001b[0m",
      "\u001b[1;32m<ipython-input-1-63a74f239a4f>\u001b[0m in \u001b[0;36mtest6\u001b[1;34m()\u001b[0m\n\u001b[0;32m      1\u001b[0m \u001b[0mMist3\u001b[0m\u001b[1;33m=\u001b[0m\u001b[1;36m100\u001b[0m\u001b[1;33m\u001b[0m\u001b[0m\n\u001b[0;32m      2\u001b[0m \u001b[1;32mdef\u001b[0m \u001b[0mtest6\u001b[0m\u001b[1;33m(\u001b[0m\u001b[1;33m)\u001b[0m\u001b[1;33m:\u001b[0m\u001b[1;33m\u001b[0m\u001b[0m\n\u001b[1;32m----> 3\u001b[1;33m     \u001b[1;32mdel\u001b[0m \u001b[0mMist3\u001b[0m\u001b[1;33m\u001b[0m\u001b[0m\n\u001b[0m\u001b[0;32m      4\u001b[0m     \u001b[0mprint\u001b[0m\u001b[1;33m(\u001b[0m\u001b[0mMist3\u001b[0m\u001b[1;33m)\u001b[0m\u001b[1;33m\u001b[0m\u001b[0m\n",
      "\u001b[1;31mUnboundLocalError\u001b[0m: local variable 'Mist3' referenced before assignment"
     ]
    }
   ],
   "source": [
    "test6()"
   ]
  },
  {
   "cell_type": "markdown",
   "metadata": {},
   "source": [
    "## 注意：\n",
    "- global ：在进行赋值操作的时候需要声明\n",
    "- 官方解释：This is because when you make an assignment to a variable in a scope, that variable becomes local to that scope and shadows any similarly named variable in the outer scope.\n",
    "- ![](../Photo/73.png)"
   ]
  },
  {
   "cell_type": "code",
   "execution_count": 64,
   "metadata": {},
   "outputs": [
    {
     "name": "stdout",
     "output_type": "stream",
     "text": [
      "1\n",
      "1\n"
     ]
    }
   ],
   "source": [
    "x = 1\n",
    "y = []\n",
    "def test():\n",
    "#     x = x  + 1\n",
    "    y.append(100)\n",
    "    print(x)\n",
    "test()\n",
    "print(x)"
   ]
  },
  {
   "cell_type": "markdown",
   "metadata": {},
   "source": [
    "## EP：\n",
    "- 定义一个邮箱加密函数，使得输入邮箱后进行ASCII码加密\n",
    "- 定义一个判断其是否为闰年的函数\n",
    "- 函数的嵌套：定义两个函数A，B，B函数接受A函数的数值并判定是否为奇数或者偶数"
   ]
  },
  {
   "cell_type": "markdown",
   "metadata": {},
   "source": [
    "# Homework\n",
    "- 1\n",
    "![](../Photo/74.png)"
   ]
  },
  {
   "cell_type": "code",
   "execution_count": 22,
   "metadata": {},
   "outputs": [],
   "source": [
    "def getPentagonalNumber(n):\n",
    "    for i in range(1,n):\n",
    "        print(i * (3*i -1) /2,end=' ')\n",
    "        if i % 10 == 0 and i !=0:\n",
    "            print()    "
   ]
  },
  {
   "cell_type": "code",
   "execution_count": 23,
   "metadata": {},
   "outputs": [
    {
     "name": "stdout",
     "output_type": "stream",
     "text": [
      "1.0 5.0 12.0 22.0 35.0 51.0 70.0 92.0 117.0 145.0 \n",
      "176.0 210.0 247.0 287.0 330.0 376.0 425.0 477.0 532.0 590.0 \n",
      "651.0 715.0 782.0 852.0 925.0 1001.0 1080.0 1162.0 1247.0 1335.0 \n",
      "1426.0 1520.0 1617.0 1717.0 1820.0 1926.0 2035.0 2147.0 2262.0 2380.0 \n",
      "2501.0 2625.0 2752.0 2882.0 3015.0 3151.0 3290.0 3432.0 3577.0 3725.0 \n",
      "3876.0 4030.0 4187.0 4347.0 4510.0 4676.0 4845.0 5017.0 5192.0 5370.0 \n",
      "5551.0 5735.0 5922.0 6112.0 6305.0 6501.0 6700.0 6902.0 7107.0 7315.0 \n",
      "7526.0 7740.0 7957.0 8177.0 8400.0 8626.0 8855.0 9087.0 9322.0 9560.0 \n",
      "9801.0 10045.0 10292.0 10542.0 10795.0 11051.0 11310.0 11572.0 11837.0 12105.0 \n",
      "12376.0 12650.0 12927.0 13207.0 13490.0 13776.0 14065.0 14357.0 14652.0 "
     ]
    }
   ],
   "source": [
    "getPentagonalNumber(100)"
   ]
  },
  {
   "cell_type": "markdown",
   "metadata": {},
   "source": [
    "- 2 \n",
    "![](../Photo/75.png)"
   ]
  },
  {
   "cell_type": "code",
   "execution_count": 7,
   "metadata": {},
   "outputs": [],
   "source": [
    "def sumDigits(n):\n",
    "    s=0\n",
    "    #n=eval(input('Enter a number :'))\n",
    "    while n!=0:\n",
    "        ge = n % 10\n",
    "        s=s+ge\n",
    "        n = n //10\n",
    "    return s"
   ]
  },
  {
   "cell_type": "code",
   "execution_count": 10,
   "metadata": {},
   "outputs": [
    {
     "data": {
      "text/plain": [
       "20"
      ]
     },
     "execution_count": 10,
     "metadata": {},
     "output_type": "execute_result"
    }
   ],
   "source": [
    "sumDigits(23456)"
   ]
  },
  {
   "cell_type": "markdown",
   "metadata": {},
   "source": [
    "- 3\n",
    "![](../Photo/76.png)"
   ]
  },
  {
   "cell_type": "code",
   "execution_count": 23,
   "metadata": {},
   "outputs": [],
   "source": [
    "def displaySortedNumbers():\n",
    "    a,b,c=eval(input('Enter three numbers :'))\n",
    "    if a>b>c:\n",
    "        print(\"The sorted numbers are\",(c,b,a))\n",
    "    elif a>c>b:\n",
    "        print(\"The sorted numbers are\",(b,c,a))\n",
    "    elif b>c>a:\n",
    "        print(\"The sorted numbers are\",(a,c,b))\n",
    "    elif b>a>c:\n",
    "        print(\"The sorted numbers are\",(c,a,b))\n",
    "    elif c>a>b:\n",
    "        print(\"The sorted numbers are\",(b,a,c))\n",
    "    elif c>b>a:\n",
    "        print(\"The sorted numbers are\",(a,b,c))  \n",
    "        \n",
    "\n",
    "    "
   ]
  },
  {
   "cell_type": "code",
   "execution_count": 24,
   "metadata": {
    "scrolled": true
   },
   "outputs": [
    {
     "name": "stdout",
     "output_type": "stream",
     "text": [
      "Enter three numbers :31,12.4,15\n",
      "The sorted numbers are (12.4, 15, 31)\n"
     ]
    }
   ],
   "source": [
    "displaySortedNumbers()"
   ]
  },
  {
   "cell_type": "code",
   "execution_count": 22,
   "metadata": {},
   "outputs": [
    {
     "name": "stdout",
     "output_type": "stream",
     "text": [
      "Enter three numbers :31,12.4,15\n",
      "The sorted numbers are (12.4, 15, 31)\n"
     ]
    }
   ],
   "source": [
    "displaySortedNumbers(31,12.4,15)"
   ]
  },
  {
   "cell_type": "markdown",
   "metadata": {},
   "source": [
    "- 4\n",
    "![](../Photo/77.png)"
   ]
  },
  {
   "cell_type": "code",
   "execution_count": 33,
   "metadata": {},
   "outputs": [],
   "source": [
    "def futureInvestmentValue():\n",
    "    investment=eval(input('The amount invested:'))\n",
    "    annualinterest_rate=eval(input('Annual interest rate:'))\n",
    "    print('Years    Futurevalue')\n",
    "    annualinterestrate=annualinterest_rate/100\n",
    "    monthlyInterestRate=annualinterestrate/12\n",
    "    for years in range(1,31,1):\n",
    "        months=years*12\n",
    "        futurevalue=investment*(1+monthlyInterestRate)**months\n",
    "        print('%d           %.2f        '%(years,futurevalue))       \n",
    "    "
   ]
  },
  {
   "cell_type": "code",
   "execution_count": 34,
   "metadata": {},
   "outputs": [
    {
     "name": "stdout",
     "output_type": "stream",
     "text": [
      "The amount invested:1000\n",
      "Annual interest rate:9\n",
      "Years    Futurevalue\n",
      "1           1093.81        \n",
      "2           1196.41        \n",
      "3           1308.65        \n",
      "4           1431.41        \n",
      "5           1565.68        \n",
      "6           1712.55        \n",
      "7           1873.20        \n",
      "8           2048.92        \n",
      "9           2241.12        \n",
      "10           2451.36        \n",
      "11           2681.31        \n",
      "12           2932.84        \n",
      "13           3207.96        \n",
      "14           3508.89        \n",
      "15           3838.04        \n",
      "16           4198.08        \n",
      "17           4591.89        \n",
      "18           5022.64        \n",
      "19           5493.80        \n",
      "20           6009.15        \n",
      "21           6572.85        \n",
      "22           7189.43        \n",
      "23           7863.85        \n",
      "24           8601.53        \n",
      "25           9408.41        \n",
      "26           10290.99        \n",
      "27           11256.35        \n",
      "28           12312.28        \n",
      "29           13467.25        \n",
      "30           14730.58        \n"
     ]
    }
   ],
   "source": [
    "futureInvestmentValue()"
   ]
  },
  {
   "cell_type": "markdown",
   "metadata": {},
   "source": [
    "- 5\n",
    "![](../Photo/78.png)"
   ]
  },
  {
   "cell_type": "code",
   "execution_count": 41,
   "metadata": {},
   "outputs": [
    {
     "name": "stdout",
     "output_type": "stream",
     "text": [
      "1 2 3 4 5 6 7 8 9 : \n",
      "; < = > ? @ A B C D \n",
      "E F G H I J K L M N \n",
      "O P Q R S T U V W X \n",
      "Y Z "
     ]
    }
   ],
   "source": [
    "def printChars(ch1,ch2,numberPerline):\n",
    "    j=0\n",
    "    for i in range(ord(ch1),ord(ch2)+1,1):\n",
    "        print(chr(i) ,end=' ')\n",
    "        j=j+1\n",
    "        if j % 10 == 0 :\n",
    "            print() \n",
    "\n",
    "printChars('1','Z',10)    "
   ]
  },
  {
   "cell_type": "markdown",
   "metadata": {},
   "source": [
    "- 6\n",
    "![](../Photo/79.png)"
   ]
  },
  {
   "cell_type": "code",
   "execution_count": 50,
   "metadata": {},
   "outputs": [
    {
     "name": "stdout",
     "output_type": "stream",
     "text": [
      "Year    Days\n",
      "2010    365        \n",
      "2011    365        \n",
      "2012    366        \n",
      "2013    365        \n",
      "2014    365        \n",
      "2015    365        \n",
      "2016    366        \n",
      "2017    365        \n",
      "2018    365        \n",
      "2019    365        \n",
      "2020    366        \n"
     ]
    }
   ],
   "source": [
    "def numberofDaysInAYear():\n",
    "    print('Year    Days')\n",
    "    for year in range(2010,2021,1):\n",
    "        if (year%400==0)or((year%4==0)and(year%100!=0)):\n",
    "            days=366\n",
    "        else:\n",
    "            days=365\n",
    "        print('%d    %d        '%(year,days))\n",
    "        \n",
    "numberofDaysInAYear()   \n",
    "            \n",
    "    \n",
    "    "
   ]
  },
  {
   "cell_type": "markdown",
   "metadata": {},
   "source": [
    "- 7\n",
    "![](../Photo/80.png)"
   ]
  },
  {
   "cell_type": "code",
   "execution_count": 51,
   "metadata": {},
   "outputs": [
    {
     "name": "stdout",
     "output_type": "stream",
     "text": [
      "Enter x1 and y1 for point 1:1.5,-3.4\n",
      "Enter x2 and y1 for point 2:4,5\n",
      "The distance between the two point is 8.764131445842194\n"
     ]
    }
   ],
   "source": [
    "def distance():\n",
    "    x1,y1=eval(input('Enter x1 and y1 for point 1:'))\n",
    "    x2,y2=eval(input('Enter x2 and y1 for point 2:'))\n",
    "    distance=((x1-x2)*(x1-x2)+(y1-y2)*(y1-y2))**0.5\n",
    "    print(\"The distance between the two point is\" ,distance)\n",
    "\n",
    "\n",
    "distance()\n",
    "    \n",
    "    "
   ]
  },
  {
   "cell_type": "markdown",
   "metadata": {},
   "source": [
    "- 8\n",
    "![](../Photo/81.png)"
   ]
  },
  {
   "cell_type": "code",
   "execution_count": 33,
   "metadata": {
    "scrolled": true
   },
   "outputs": [],
   "source": [
    "import math\n",
    "def isP():\n",
    "    m=eval(input(\"Enter a number :\"))\n",
    "    if m==2 :return True\n",
    "    if m%2==0 :return False\n",
    "    for j in range(3,m-1,2):\n",
    "        if m%j==0 :return False \n",
    "        return True \n"
   ]
  },
  {
   "cell_type": "code",
   "execution_count": null,
   "metadata": {},
   "outputs": [
    {
     "name": "stdout",
     "output_type": "stream",
     "text": [
      "p    2^p-1\n",
      "Enter a number :23\n",
      "2    3        \n",
      "p    2^p-1\n"
     ]
    }
   ],
   "source": [
    "for i in range(2,32,1):\n",
    "    print('p    2^p-1')\n",
    "    if isP() and n==2**i-1:\n",
    "        print('%d    %d        '%(i,n))\n"
   ]
  },
  {
   "cell_type": "code",
   "execution_count": null,
   "metadata": {},
   "outputs": [],
   "source": [
    "'''def isMP(x,y):\n",
    "    n=4\n",
    "    for i in range(x-2):\n",
    "        n=(n*n-2)%y \n",
    "    return not n \n",
    "     \n",
    "for n in range(3,200,2):\n",
    "    if isP(n) and isMP(n, (2**n)-1):\n",
    "        print(n)''' "
   ]
  },
  {
   "cell_type": "markdown",
   "metadata": {},
   "source": [
    "- 9\n",
    "![](../Photo/82.png)\n",
    "![](../Photo/83.png)"
   ]
  },
  {
   "cell_type": "code",
   "execution_count": 10,
   "metadata": {},
   "outputs": [
    {
     "data": {
      "text/plain": [
       "'Fri Jul 20 19:35:53 2018'"
      ]
     },
     "execution_count": 10,
     "metadata": {},
     "output_type": "execute_result"
    }
   ],
   "source": [
    "import time\n",
    "import datetime\n",
    "now =datetime.datetime.now()\n",
    "now.strftime('%c')"
   ]
  },
  {
   "cell_type": "markdown",
   "metadata": {},
   "source": [
    "- 10\n",
    "![](../Photo/84.png)"
   ]
  },
  {
   "cell_type": "markdown",
   "metadata": {},
   "source": [
    "- 11 \n",
    "### 去网上寻找如何用Python代码发送邮件"
   ]
  }
 ],
 "metadata": {
  "kernelspec": {
   "display_name": "Python 3",
   "language": "python",
   "name": "python3"
  }
 },
 "nbformat": 4,
 "nbformat_minor": 2
}
