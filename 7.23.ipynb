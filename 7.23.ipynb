{
 "cells": [
  {
   "cell_type": "markdown",
   "metadata": {},
   "source": [
    "# 对象和类\n",
    "- 一个学生，一张桌子，一个圆都是对象\n",
    "- 对象是类的一个实例，你可以创建多个对象，创建类的一个实例过程被称为实例化，\n",
    "- 在Python中对象就是实例，而实例就是对象"
   ]
  },
  {
   "cell_type": "code",
   "execution_count": null,
   "metadata": {},
   "outputs": [],
   "source": [
    "import itertools\n",
    "#穷举遍历\n",
    "good=\"1234567890\"\n",
    "haha=iter\n"
   ]
  },
  {
   "cell_type": "markdown",
   "metadata": {},
   "source": [
    "### 定义类\n",
    "class ClassName:\n",
    "\n",
    "    do something\n",
    "    \n",
    "- class 类的表示与def 一样\n",
    "- 类名最好使用驼峰式\n",
    "- 在Python2中类是需要继承基类object的，在Python3中默认继承，可写可不写\n",
    "- 可以将普通代码理解为皮肤，而函数可以理解为内衣，那么类可以理解为外套"
   ]
  },
  {
   "cell_type": "code",
   "execution_count": 3,
   "metadata": {},
   "outputs": [
    {
     "name": "stdout",
     "output_type": "stream",
     "text": [
      "hahahah\n"
     ]
    }
   ],
   "source": [
    "class Joker(object):#在python 2中必须写，代表寄存基类，在python 3中可写可不写，直接：就可以\n",
    "    '''\n",
    "    这个类是做什么的\n",
    "    '''\n",
    "    print('hahahah')"
   ]
  },
  {
   "cell_type": "code",
   "execution_count": 1,
   "metadata": {},
   "outputs": [
    {
     "name": "stdout",
     "output_type": "stream",
     "text": [
      "hahahah\n"
     ]
    }
   ],
   "source": [
    "class Joker2:#在python 2中必须写，代表寄存基类，在python 3中可写可不写，直接：就可以\n",
    "    print('hahahah')"
   ]
  },
  {
   "cell_type": "markdown",
   "metadata": {},
   "source": [
    "## 定义一个不含初始化__init__的简单类\n",
    "class ClassName:\n",
    "\n",
    "    joker = “Home”\n",
    "    \n",
    "    def func():\n",
    "        print('Worker')\n",
    "    \n",
    "- 尽量少使用"
   ]
  },
  {
   "cell_type": "code",
   "execution_count": 7,
   "metadata": {},
   "outputs": [],
   "source": [
    "class ClassName:\n",
    "    Joker = \"Home\"\n",
    "    def func():\n",
    "        print('Worker')"
   ]
  },
  {
   "cell_type": "code",
   "execution_count": 9,
   "metadata": {},
   "outputs": [
    {
     "data": {
      "text/plain": [
       "__main__.ClassName"
      ]
     },
     "execution_count": 9,
     "metadata": {},
     "output_type": "execute_result"
    }
   ],
   "source": [
    "ClassName"
   ]
  },
  {
   "cell_type": "code",
   "execution_count": 8,
   "metadata": {},
   "outputs": [
    {
     "data": {
      "text/plain": [
       "'Home'"
      ]
     },
     "execution_count": 8,
     "metadata": {},
     "output_type": "execute_result"
    }
   ],
   "source": [
    "ClassName.Joker"
   ]
  },
  {
   "cell_type": "code",
   "execution_count": 11,
   "metadata": {},
   "outputs": [
    {
     "name": "stdout",
     "output_type": "stream",
     "text": [
      "Worker\n"
     ]
    }
   ],
   "source": [
    "ClassName.func"
   ]
  },
  {
   "cell_type": "code",
   "execution_count": 12,
   "metadata": {},
   "outputs": [
    {
     "name": "stdout",
     "output_type": "stream",
     "text": [
      "Worker\n"
     ]
    }
   ],
   "source": [
    "ClassName.func()"
   ]
  },
  {
   "cell_type": "code",
   "execution_count": 17,
   "metadata": {},
   "outputs": [],
   "source": [
    "class Num:\n",
    "    def num():\n",
    "        print(100**3)"
   ]
  },
  {
   "cell_type": "code",
   "execution_count": 18,
   "metadata": {},
   "outputs": [
    {
     "name": "stdout",
     "output_type": "stream",
     "text": [
      "1000000\n"
     ]
    }
   ],
   "source": [
    "Num.num()"
   ]
  },
  {
   "cell_type": "markdown",
   "metadata": {},
   "source": [
    "## 定义一个标准类\n",
    "- __init__ 代表初始化，可以初始化任何动作\n",
    "- 此时类调用要使用()，其中（）可以理解为开始初始化\n",
    "- 初始化内的元素，类中其他的函数可以共享\n",
    "![](../Photo/85.png)"
   ]
  },
  {
   "cell_type": "code",
   "execution_count": 22,
   "metadata": {},
   "outputs": [],
   "source": [
    "class classname3():\n",
    "    def _init_(self):\n",
    "        print('Joker is a bad man ')        "
   ]
  },
  {
   "cell_type": "code",
   "execution_count": 23,
   "metadata": {
    "scrolled": true
   },
   "outputs": [
    {
     "data": {
      "text/plain": [
       "__main__.classname3"
      ]
     },
     "execution_count": 23,
     "metadata": {},
     "output_type": "execute_result"
    }
   ],
   "source": [
    "classname3"
   ]
  },
  {
   "cell_type": "code",
   "execution_count": 24,
   "metadata": {},
   "outputs": [
    {
     "data": {
      "text/plain": [
       "<__main__.classname3 at 0x6b29470>"
      ]
     },
     "execution_count": 24,
     "metadata": {},
     "output_type": "execute_result"
    }
   ],
   "source": [
    "classname3()#括号代表初始化"
   ]
  },
  {
   "cell_type": "code",
   "execution_count": 48,
   "metadata": {},
   "outputs": [],
   "source": [
    "class classname4():\n",
    "    def __init__(self):\n",
    "        print('Joker is a bad man ') \n",
    "        self.Joker = 'Home'"
   ]
  },
  {
   "cell_type": "code",
   "execution_count": 49,
   "metadata": {},
   "outputs": [
    {
     "data": {
      "text/plain": [
       "__main__.classname4"
      ]
     },
     "execution_count": 49,
     "metadata": {},
     "output_type": "execute_result"
    }
   ],
   "source": [
    "classname4"
   ]
  },
  {
   "cell_type": "code",
   "execution_count": 50,
   "metadata": {},
   "outputs": [
    {
     "name": "stdout",
     "output_type": "stream",
     "text": [
      "Joker is a bad man \n"
     ]
    },
    {
     "data": {
      "text/plain": [
       "<__main__.classname4 at 0x6b29710>"
      ]
     },
     "execution_count": 50,
     "metadata": {},
     "output_type": "execute_result"
    }
   ],
   "source": [
    "classname4()"
   ]
  },
  {
   "cell_type": "code",
   "execution_count": 51,
   "metadata": {},
   "outputs": [
    {
     "ename": "AttributeError",
     "evalue": "type object 'classname4' has no attribute 'Joker'",
     "output_type": "error",
     "traceback": [
      "\u001b[1;31m---------------------------------------------------------------------------\u001b[0m",
      "\u001b[1;31mAttributeError\u001b[0m                            Traceback (most recent call last)",
      "\u001b[1;32m<ipython-input-51-333244368d62>\u001b[0m in \u001b[0;36m<module>\u001b[1;34m()\u001b[0m\n\u001b[1;32m----> 1\u001b[1;33m \u001b[0mclassname4\u001b[0m\u001b[1;33m.\u001b[0m\u001b[0mJoker\u001b[0m\u001b[1;33m\u001b[0m\u001b[0m\n\u001b[0m",
      "\u001b[1;31mAttributeError\u001b[0m: type object 'classname4' has no attribute 'Joker'"
     ]
    }
   ],
   "source": [
    "classname4.Joker"
   ]
  },
  {
   "cell_type": "code",
   "execution_count": 52,
   "metadata": {
    "scrolled": true
   },
   "outputs": [
    {
     "name": "stdout",
     "output_type": "stream",
     "text": [
      "Joker is a bad man \n"
     ]
    },
    {
     "data": {
      "text/plain": [
       "'Home'"
      ]
     },
     "execution_count": 52,
     "metadata": {},
     "output_type": "execute_result"
    }
   ],
   "source": [
    "classname4().Joker#必须有（）吗？"
   ]
  },
  {
   "cell_type": "code",
   "execution_count": 53,
   "metadata": {
    "scrolled": true
   },
   "outputs": [
    {
     "name": "stdout",
     "output_type": "stream",
     "text": [
      "Joker is a bad man \n"
     ]
    }
   ],
   "source": [
    "python=classname4()"
   ]
  },
  {
   "cell_type": "code",
   "execution_count": 54,
   "metadata": {
    "scrolled": false
   },
   "outputs": [
    {
     "data": {
      "text/plain": [
       "'Home'"
      ]
     },
     "execution_count": 54,
     "metadata": {},
     "output_type": "execute_result"
    }
   ],
   "source": [
    "python.Joker"
   ]
  },
  {
   "cell_type": "code",
   "execution_count": 55,
   "metadata": {},
   "outputs": [
    {
     "data": {
      "text/plain": [
       "['__class__',\n",
       " '__delattr__',\n",
       " '__dict__',\n",
       " '__dir__',\n",
       " '__doc__',\n",
       " '__eq__',\n",
       " '__format__',\n",
       " '__ge__',\n",
       " '__getattribute__',\n",
       " '__gt__',\n",
       " '__hash__',\n",
       " '__init__',\n",
       " '__init_subclass__',\n",
       " '__le__',\n",
       " '__lt__',\n",
       " '__module__',\n",
       " '__ne__',\n",
       " '__new__',\n",
       " '__reduce__',\n",
       " '__reduce_ex__',\n",
       " '__repr__',\n",
       " '__setattr__',\n",
       " '__sizeof__',\n",
       " '__str__',\n",
       " '__subclasshook__',\n",
       " '__weakref__']"
      ]
     },
     "execution_count": 55,
     "metadata": {},
     "output_type": "execute_result"
    }
   ],
   "source": [
    "dir(classname4)"
   ]
  },
  {
   "cell_type": "code",
   "execution_count": 63,
   "metadata": {},
   "outputs": [],
   "source": [
    "class classname5():\n",
    "    def __init__(self):\n",
    "        self.Joker = 'Home'\n",
    "    def show(self):\n",
    "        print(self.Joker)"
   ]
  },
  {
   "cell_type": "code",
   "execution_count": 64,
   "metadata": {},
   "outputs": [
    {
     "name": "stdout",
     "output_type": "stream",
     "text": [
      "Home\n"
     ]
    }
   ],
   "source": [
    "classname5().show()"
   ]
  },
  {
   "cell_type": "code",
   "execution_count": 66,
   "metadata": {},
   "outputs": [],
   "source": [
    "class classname5():\n",
    "    def __init__(self):\n",
    "        self.Joker = 'Home'\n",
    "    def show():\n",
    "        print(self.Joker)"
   ]
  },
  {
   "cell_type": "code",
   "execution_count": 76,
   "metadata": {},
   "outputs": [],
   "source": [
    "class classname6():\n",
    "    def __init__(self):\n",
    "        self.num=100\n",
    "    def show1(self):\n",
    "        print(self.num**2)\n",
    "        return self.num**2\n",
    "    def show2(self):\n",
    "        print(self.num**3)\n",
    "        return 100**3\n",
    "    def show3(self):\n",
    "        t=self.show2()-self.show1()\n",
    "        print(t)\n",
    "    "
   ]
  },
  {
   "cell_type": "code",
   "execution_count": 78,
   "metadata": {
    "scrolled": true
   },
   "outputs": [
    {
     "name": "stdout",
     "output_type": "stream",
     "text": [
      "1000000\n",
      "10000\n",
      "990000\n"
     ]
    }
   ],
   "source": [
    "classname6().show3()"
   ]
  },
  {
   "cell_type": "code",
   "execution_count": 10,
   "metadata": {},
   "outputs": [],
   "source": [
    "class classname7():\n",
    "    def __init__(self):\n",
    "        self.num1=None\n",
    "        self.num2=None\n",
    "    def Num1(self):\n",
    "        self.num1=100**3\n",
    "    def Num2(self):\n",
    "        self.num2=100**2\n",
    "    def Num3(self):\n",
    "        self.Num1()\n",
    "        self.Num2()\n",
    "        self.num1-self.num2\n",
    "        print(self.num1-self.num2)"
   ]
  },
  {
   "cell_type": "code",
   "execution_count": 11,
   "metadata": {},
   "outputs": [
    {
     "name": "stdout",
     "output_type": "stream",
     "text": [
      "990000\n"
     ]
    }
   ],
   "source": [
    "classname7().Num3()"
   ]
  },
  {
   "cell_type": "code",
   "execution_count": 8,
   "metadata": {},
   "outputs": [],
   "source": [
    "class classname8():\n",
    "    def __init__(self):\n",
    "        pass   #必须有执行体\n",
    "    def show1(self):\n",
    "        print(100**2)\n",
    "        return 100**2\n",
    "    def show2(self):\n",
    "        print(100**3)\n",
    "        return 100**3\n",
    "    def show3(self):\n",
    "        t=self.show2()-self.show1()\n",
    "        print(t)"
   ]
  },
  {
   "cell_type": "code",
   "execution_count": 9,
   "metadata": {},
   "outputs": [
    {
     "name": "stdout",
     "output_type": "stream",
     "text": [
      "1000000\n",
      "10000\n",
      "990000\n"
     ]
    }
   ],
   "source": [
    "classname8().show3()"
   ]
  },
  {
   "cell_type": "markdown",
   "metadata": {},
   "source": [
    "## 何为self？\n",
    "- self 是指向对象本身的参数\n",
    "- self 只是一个命名规则，其实可以改变的，但是我们约定俗成的是self，也便于理解\n",
    "- 使用了self就可以访问类中定义的成员\n",
    "<img src=\"../Photo/86.png\"></img>"
   ]
  },
  {
   "cell_type": "markdown",
   "metadata": {},
   "source": [
    "## 使用类 Cirlcle"
   ]
  },
  {
   "cell_type": "markdown",
   "metadata": {},
   "source": [
    "## 类的传参\n",
    "- class ClassName:\n",
    "    \n",
    "        def __init__(self, para1,para2...)：\n",
    "            \n",
    "            self.para1 = para1\n",
    "            \n",
    "            self.para2 = para2"
   ]
  },
  {
   "cell_type": "code",
   "execution_count": 23,
   "metadata": {},
   "outputs": [],
   "source": [
    "class classname9():\n",
    "    def __init__(self,name,name2):\n",
    "        self.name=name\n",
    "        self.name2=name2\n",
    "    def show(self):\n",
    "        print(self.name)\n",
    "        print(self.name2)\n",
    "        "
   ]
  },
  {
   "cell_type": "code",
   "execution_count": 24,
   "metadata": {},
   "outputs": [
    {
     "name": "stdout",
     "output_type": "stream",
     "text": [
      "joker\n",
      "mist\n"
     ]
    }
   ],
   "source": [
    "classname9('joker','mist').show()"
   ]
  },
  {
   "cell_type": "markdown",
   "metadata": {},
   "source": [
    "## EP:\n",
    "- A：定义一个类，类中含有两个功能：\n",
    "    - 1、计算随机数的最大值\n",
    "    - 2、计算随机数的最小值\n",
    "- B：定义一个类，（类中函数的嵌套使用）\n",
    "    - 1、第一个函数的功能为：输入一个数字\n",
    "    - 2、第二个函数的功能为：使用第一个函数中得到的数字进行平方处理\n",
    "    - 3、第三个函数的功能为：得到平方处理后的数字 - 原来输入的数字，并打印结果"
   ]
  },
  {
   "cell_type": "code",
   "execution_count": 40,
   "metadata": {},
   "outputs": [],
   "source": [
    "import random\n",
    "class classname9():\n",
    "    def __init__(self):\n",
    "        self.num1=random.randint(1,100)\n",
    "        self.num2=random.randint(1,100)\n",
    "        self.num3=random.randint(1,100)\n",
    "        print(self.num1)\n",
    "        print(self.num2)\n",
    "        print(self.num3)\n",
    "    def Num1(self):        \n",
    "        t1=max( self.num1,self.num2,self.num3)\n",
    "        print(t1)\n",
    "    def Num2(self):\n",
    "        t2=min(self.num1,self.num2,self.num3)\n",
    "        print(t2)"
   ]
  },
  {
   "cell_type": "code",
   "execution_count": 41,
   "metadata": {},
   "outputs": [
    {
     "name": "stdout",
     "output_type": "stream",
     "text": [
      "44\n",
      "22\n",
      "93\n",
      "93\n",
      "61\n",
      "34\n",
      "57\n",
      "34\n"
     ]
    }
   ],
   "source": [
    "classname9().Num1()\n",
    "classname9().Num2()"
   ]
  },
  {
   "cell_type": "code",
   "execution_count": 46,
   "metadata": {},
   "outputs": [],
   "source": [
    "class classname10():\n",
    "    def __init__(self):\n",
    "        self.num1=None\n",
    "    def shuru(self): \n",
    "        self.num1=eval(input(\"enter a number\"  ))\n",
    "    def pingfang(self):\n",
    "        #self.shuru()\n",
    "        print(self.num1**2)\n",
    "    def cha(self):\n",
    "        #self.shuru()\n",
    "        print(self.num1**2-self.num1)  \n",
    "\n",
    "        "
   ]
  },
  {
   "cell_type": "code",
   "execution_count": 47,
   "metadata": {},
   "outputs": [
    {
     "name": "stdout",
     "output_type": "stream",
     "text": [
      "enter a number3\n",
      "9\n",
      "6\n"
     ]
    }
   ],
   "source": [
    "numer=classname10()##创建一个类的实例，可以避免在函数传递过程中多次初始化\n",
    "numer.shuru()\n",
    "numer.pingfang()\n",
    "numer.cha()"
   ]
  },
  {
   "cell_type": "code",
   "execution_count": 48,
   "metadata": {
    "scrolled": true
   },
   "outputs": [
    {
     "name": "stdout",
     "output_type": "stream",
     "text": [
      "enter a number3\n"
     ]
    }
   ],
   "source": [
    "numer.shuru()"
   ]
  },
  {
   "cell_type": "code",
   "execution_count": 49,
   "metadata": {},
   "outputs": [
    {
     "name": "stdout",
     "output_type": "stream",
     "text": [
      "9\n"
     ]
    }
   ],
   "source": [
    "numer.pingfang()"
   ]
  },
  {
   "cell_type": "code",
   "execution_count": 50,
   "metadata": {},
   "outputs": [
    {
     "name": "stdout",
     "output_type": "stream",
     "text": [
      "6\n"
     ]
    }
   ],
   "source": [
    "numer.cha()"
   ]
  },
  {
   "cell_type": "markdown",
   "metadata": {},
   "source": [
    "## 类的继承\n",
    "- 类的单继承\n",
    "- 类的多继承\n",
    "- 继承标识\n",
    ">  class SonClass(FatherClass):\n",
    "            \n",
    "            def __init__(self):\n",
    "            \n",
    "                FatherClass.__init__(self)"
   ]
  },
  {
   "cell_type": "code",
   "execution_count": 64,
   "metadata": {},
   "outputs": [],
   "source": [
    "class Mayun:\n",
    "    def __init__(self):\n",
    "        self.a='马云'\n",
    "    def showmayun(self):\n",
    "        print(self.a)\n",
    "    "
   ]
  },
  {
   "cell_type": "code",
   "execution_count": 65,
   "metadata": {},
   "outputs": [],
   "source": [
    "class Mahuateng:\n",
    "    def __init__(self):\n",
    "        self.c='马化腾'\n",
    "    def showmahuateng(self):\n",
    "        print(self.c)\n",
    "        "
   ]
  },
  {
   "cell_type": "code",
   "execution_count": 66,
   "metadata": {},
   "outputs": [],
   "source": [
    "class huwang(Mayun):\n",
    "    def __init__(self):\n",
    "        Mayun.__init__(self)\n",
    "        Mahuateng.__init__(self)\n",
    "        self.b='胡旺'\n",
    "    def showhuwang(self):\n",
    "        print(self.b)\n",
    "        print(self.a)\n",
    "        self.showmayun()\n",
    "        print(self.c)"
   ]
  },
  {
   "cell_type": "code",
   "execution_count": 67,
   "metadata": {
    "scrolled": true
   },
   "outputs": [
    {
     "name": "stdout",
     "output_type": "stream",
     "text": [
      "胡旺\n",
      "马云\n",
      "马云\n",
      "马化腾\n"
     ]
    }
   ],
   "source": [
    "huwang().showhuwang()"
   ]
  },
  {
   "cell_type": "code",
   "execution_count": 119,
   "metadata": {},
   "outputs": [],
   "source": [
    "class Mayun:\n",
    "    def __init__(self):\n",
    "        self.__a='马云'\n",
    "    def __showmayun(self):\n",
    "        print(self.__a)"
   ]
  },
  {
   "cell_type": "code",
   "execution_count": 120,
   "metadata": {},
   "outputs": [],
   "source": [
    "class Mahuateng:\n",
    "    def __init__(self):\n",
    "        self.c='马化腾'\n",
    "    def showmahuateng(self):\n",
    "        print(self.c)"
   ]
  },
  {
   "cell_type": "code",
   "execution_count": 121,
   "metadata": {},
   "outputs": [],
   "source": [
    "class huwang(Mayun):\n",
    "    def __init__(self):\n",
    "        Mayun.__init__(self)\n",
    "        Mahuateng.__init__(self)\n",
    "        self.b='胡旺'\n",
    "    def showhuwang(self):\n",
    "        print(self.b)\n",
    "        print(self._Mayun__a)\n",
    "        self._Mayun__showmayun()\n",
    "        print(self.c)"
   ]
  },
  {
   "cell_type": "code",
   "execution_count": 122,
   "metadata": {
    "scrolled": true
   },
   "outputs": [
    {
     "name": "stdout",
     "output_type": "stream",
     "text": [
      "胡旺\n",
      "马云\n",
      "马云\n",
      "马化腾\n"
     ]
    }
   ],
   "source": [
    "huwang().showhuwang()"
   ]
  },
  {
   "cell_type": "code",
   "execution_count": 79,
   "metadata": {},
   "outputs": [
    {
     "data": {
      "text/plain": [
       "['_Mayun__a',\n",
       " '_Mayun__showmayun',\n",
       " '__class__',\n",
       " '__delattr__',\n",
       " '__dict__',\n",
       " '__dir__',\n",
       " '__doc__',\n",
       " '__eq__',\n",
       " '__format__',\n",
       " '__ge__',\n",
       " '__getattribute__',\n",
       " '__gt__',\n",
       " '__hash__',\n",
       " '__init__',\n",
       " '__init_subclass__',\n",
       " '__le__',\n",
       " '__lt__',\n",
       " '__module__',\n",
       " '__ne__',\n",
       " '__new__',\n",
       " '__reduce__',\n",
       " '__reduce_ex__',\n",
       " '__repr__',\n",
       " '__setattr__',\n",
       " '__sizeof__',\n",
       " '__str__',\n",
       " '__subclasshook__',\n",
       " '__weakref__']"
      ]
     },
     "execution_count": 79,
     "metadata": {},
     "output_type": "execute_result"
    }
   ],
   "source": [
    "dir(Mayun())"
   ]
  },
  {
   "cell_type": "markdown",
   "metadata": {},
   "source": [
    "## 私有数据域(私有变量，或者私有函数)\n",
    "- 在Python中 变量名或者函数名使用双下划线代表私有  \\__Joker,   def \\__Joker():\n",
    "- 私有数据域不可继承\n",
    "- 私有数据域强制继承   \\__dir__()"
   ]
  },
  {
   "cell_type": "markdown",
   "metadata": {},
   "source": [
    "![](../Photo/87.png)"
   ]
  },
  {
   "cell_type": "markdown",
   "metadata": {},
   "source": [
    "## EP:\n",
    "![](../Photo/88.png)\n",
    "![](../Photo/89.png)\n",
    "![](../Photo/90.png)\n"
   ]
  },
  {
   "cell_type": "code",
   "execution_count": 136,
   "metadata": {},
   "outputs": [
    {
     "name": "stdout",
     "output_type": "stream",
     "text": [
      "5\n"
     ]
    }
   ],
   "source": [
    "class A:\n",
    "    def __init__(self,i):\n",
    "        self.__i=i\n",
    "def main():\n",
    "    a=A(5)\n",
    "    #print(a.__i)\n",
    "    print(a._A__i)\n",
    "\n",
    "    \n",
    "main()"
   ]
  },
  {
   "cell_type": "markdown",
   "metadata": {},
   "source": [
    "## 类的其他\n",
    "- 类的封装\n",
    "    - 实际上就是将一类功能放在一起，方便未来进行管理\n",
    "- 类的继承（上面已经讲过）\n",
    "- 类的多态\n",
    "    - 包括装饰器：将放在以后处理高级类中教\n",
    "    - 装饰器的好处：当许多类中的函数需要使用同一个功能的时候，那么使用装饰器就会方便许多\n",
    "    - 装饰器是有固定的写法\n",
    "        - 其包括普通装饰器与带参装饰器"
   ]
  },
  {
   "cell_type": "markdown",
   "metadata": {},
   "source": [
    "# Homewor\n",
    "## UML类图可以不用画\n",
    "## UML 实际上就是一个思维图\n",
    "- 1\n",
    "![](../Photo/91.png)"
   ]
  },
  {
   "cell_type": "code",
   "execution_count": 140,
   "metadata": {},
   "outputs": [],
   "source": [
    "class Rectangle():\n",
    "    def __init__(self):\n",
    "        self.width=1\n",
    "        self.height=2\n",
    "    def getArea(self):\n",
    "        self.width,self.height=eval(input(\"enter width and height\"))\n",
    "        print(self.width,self.height)\n",
    "        self.num1=self.width*self.height\n",
    "        print(self.num1)\n",
    "    def getPerimeter(self):\n",
    "        self.num2=(self.width+self.height)*2\n",
    "        print(self.num2)\n",
    "        "
   ]
  },
  {
   "cell_type": "code",
   "execution_count": 141,
   "metadata": {},
   "outputs": [
    {
     "name": "stdout",
     "output_type": "stream",
     "text": [
      "enter width and height4,40\n",
      "4 40\n",
      "160\n",
      "88\n"
     ]
    }
   ],
   "source": [
    "Rectangle1=Rectangle()##创建一个类的实例，可以避免在函数传递过程中多次初始化\n",
    "Rectangle1.getArea()\n",
    "Rectangle1.getPerimeter()"
   ]
  },
  {
   "cell_type": "code",
   "execution_count": 142,
   "metadata": {},
   "outputs": [
    {
     "name": "stdout",
     "output_type": "stream",
     "text": [
      "enter width and height3.5,35.7\n",
      "3.5 35.7\n",
      "124.95000000000002\n",
      "78.4\n"
     ]
    }
   ],
   "source": [
    "Rectangle1=Rectangle()##创建一个类的实例，可以避免在函数传递过程中多次初始化\n",
    "Rectangle1.getArea()\n",
    "Rectangle1.getPerimeter()"
   ]
  },
  {
   "cell_type": "markdown",
   "metadata": {},
   "source": [
    "- 2\n",
    "![](../Photo/92.png)"
   ]
  },
  {
   "cell_type": "code",
   "execution_count": 1,
   "metadata": {},
   "outputs": [],
   "source": [
    "class Account():\n",
    "    def __init__(self):\n",
    "        self.__id=0\n",
    "        self.__balance=100\n",
    "        self.__annualInterestRate=0\n",
    "    def getvalue(self):\n",
    "        print(self._Account__id,self._Account__balance,self._Account__annualInterestRate)\n",
    "        self._Account__id,self._Account__balance,self._Account__annualInterestRate=eval(input(\"输入账号     金额    年利率\"))\n",
    "        print(self._Account__id,self._Account__balance,self._Account__annualInterestRate)\n",
    "        return self._Account__annualInterestRate\n",
    "    def getMonthlyInterestRate(self):\n",
    "        self.num1=self._Account__annualInterestRate/12\n",
    "        print(self.num1)\n",
    "        return self.num1\n",
    "    def getMonthlyInterest(self):\n",
    "        self.num2=self._Account__balance*self.num1\n",
    "        print(self.num2)\n",
    "        return self.num2\n",
    "    def withdraw(self):\n",
    "        self.num3=eval(input(\"取款金额\"))\n",
    "        self._Account__balance=self._Account__balance-self.num3\n",
    "        print(\" 取款金额    账户余额\")\n",
    "        print(self.num3,    self._Account__balance)\n",
    "    def deposit(self):\n",
    "        self.num4=eval(input(\" 存款金额\"))\n",
    "        self._Account__balance=self._Account__balance+self.num4\n",
    "        print(\" 存款金额    账户余额\")\n",
    "        print(self.num4,      self._Account__balance)\n",
    "        "
   ]
  },
  {
   "cell_type": "code",
   "execution_count": 2,
   "metadata": {},
   "outputs": [
    {
     "name": "stdout",
     "output_type": "stream",
     "text": [
      "0 100 0\n",
      "输入账号     金额    年利率1122,20000,0.045\n",
      "1122 20000 0.045\n",
      "0.00375\n",
      "75.0\n",
      "2500\n",
      " 取款金额    账户余额\n",
      "2500 17500\n",
      " 存款金额3000\n",
      " 存款金额    账户余额\n",
      "3000 20500\n"
     ]
    }
   ],
   "source": [
    "Account1=Account()\n",
    "Account1.getvalue()\n",
    "Account1.getMonthlyInterestRate()\n",
    "Account1.getMonthlyInterest()\n",
    "Account1.withdraw()\n",
    "Account1.deposit()"
   ]
  },
  {
   "cell_type": "markdown",
   "metadata": {},
   "source": [
    "- 3\n",
    "![](../Photo/93.png)"
   ]
  },
  {
   "cell_type": "code",
   "execution_count": 12,
   "metadata": {},
   "outputs": [],
   "source": [
    "class Fan():\n",
    "    def __init__(self):\n",
    "        SLOW=1\n",
    "        MEDIUM=2\n",
    "        FAST=3\n",
    "        self.__speed=SLOW\n",
    "        self.__radius=5\n",
    "        self.__color='blue'\n",
    "        self.__on=False        \n",
    "    def test(self):\n",
    "        print(\"速度    半径    颜色    状态\")    \n",
    "        print(self._Fan__speed,self._Fan__radius,self._Fan__color,self._Fan__on)\n",
    "        self._Fan__speed,self._Fan__radius,self._Fan__color,self.Fan__on=eval(input())\n",
    "        print(self._Fan__speed,self._Fan__radius,self._Fan__color,self._Fan__on)\n",
    "        return self._Fan__speed,self._Fan__radius,self._Fan__color,self._Fan__on\n",
    " "
   ]
  },
  {
   "cell_type": "code",
   "execution_count": 13,
   "metadata": {
    "scrolled": true
   },
   "outputs": [
    {
     "name": "stdout",
     "output_type": "stream",
     "text": [
      "速度    半径    颜色    状态\n",
      "1 5 blue False\n",
      "1,5,'blue',false\n"
     ]
    },
    {
     "ename": "NameError",
     "evalue": "name 'false' is not defined",
     "output_type": "error",
     "traceback": [
      "\u001b[1;31m---------------------------------------------------------------------------\u001b[0m",
      "\u001b[1;31mNameError\u001b[0m                                 Traceback (most recent call last)",
      "\u001b[1;32m<ipython-input-13-01243637c7ca>\u001b[0m in \u001b[0;36m<module>\u001b[1;34m()\u001b[0m\n\u001b[0;32m      1\u001b[0m \u001b[0mFan1\u001b[0m\u001b[1;33m=\u001b[0m\u001b[0mFan\u001b[0m\u001b[1;33m(\u001b[0m\u001b[1;33m)\u001b[0m\u001b[1;33m\u001b[0m\u001b[0m\n\u001b[1;32m----> 2\u001b[1;33m \u001b[0mFan1\u001b[0m\u001b[1;33m.\u001b[0m\u001b[0mtest\u001b[0m\u001b[1;33m(\u001b[0m\u001b[1;33m)\u001b[0m\u001b[1;33m\u001b[0m\u001b[0m\n\u001b[0m",
      "\u001b[1;32m<ipython-input-12-d557baa0999e>\u001b[0m in \u001b[0;36mtest\u001b[1;34m(self)\u001b[0m\n\u001b[0;32m     11\u001b[0m         \u001b[0mprint\u001b[0m\u001b[1;33m(\u001b[0m\u001b[1;34m\"速度    半径    颜色    状态\"\u001b[0m\u001b[1;33m)\u001b[0m\u001b[1;33m\u001b[0m\u001b[0m\n\u001b[0;32m     12\u001b[0m         \u001b[0mprint\u001b[0m\u001b[1;33m(\u001b[0m\u001b[0mself\u001b[0m\u001b[1;33m.\u001b[0m\u001b[0m_Fan__speed\u001b[0m\u001b[1;33m,\u001b[0m\u001b[0mself\u001b[0m\u001b[1;33m.\u001b[0m\u001b[0m_Fan__radius\u001b[0m\u001b[1;33m,\u001b[0m\u001b[0mself\u001b[0m\u001b[1;33m.\u001b[0m\u001b[0m_Fan__color\u001b[0m\u001b[1;33m,\u001b[0m\u001b[0mself\u001b[0m\u001b[1;33m.\u001b[0m\u001b[0m_Fan__on\u001b[0m\u001b[1;33m)\u001b[0m\u001b[1;33m\u001b[0m\u001b[0m\n\u001b[1;32m---> 13\u001b[1;33m         \u001b[0mself\u001b[0m\u001b[1;33m.\u001b[0m\u001b[0m_Fan__speed\u001b[0m\u001b[1;33m,\u001b[0m\u001b[0mself\u001b[0m\u001b[1;33m.\u001b[0m\u001b[0m_Fan__radius\u001b[0m\u001b[1;33m,\u001b[0m\u001b[0mself\u001b[0m\u001b[1;33m.\u001b[0m\u001b[0m_Fan__color\u001b[0m\u001b[1;33m,\u001b[0m\u001b[0mself\u001b[0m\u001b[1;33m.\u001b[0m\u001b[0mFan__on\u001b[0m\u001b[1;33m=\u001b[0m\u001b[0meval\u001b[0m\u001b[1;33m(\u001b[0m\u001b[0minput\u001b[0m\u001b[1;33m(\u001b[0m\u001b[1;33m)\u001b[0m\u001b[1;33m)\u001b[0m\u001b[1;33m\u001b[0m\u001b[0m\n\u001b[0m\u001b[0;32m     14\u001b[0m         \u001b[0mprint\u001b[0m\u001b[1;33m(\u001b[0m\u001b[0mself\u001b[0m\u001b[1;33m.\u001b[0m\u001b[0m_Fan__speed\u001b[0m\u001b[1;33m,\u001b[0m\u001b[0mself\u001b[0m\u001b[1;33m.\u001b[0m\u001b[0m_Fan__radius\u001b[0m\u001b[1;33m,\u001b[0m\u001b[0mself\u001b[0m\u001b[1;33m.\u001b[0m\u001b[0m_Fan__color\u001b[0m\u001b[1;33m,\u001b[0m\u001b[0mself\u001b[0m\u001b[1;33m.\u001b[0m\u001b[0m_Fan__on\u001b[0m\u001b[1;33m)\u001b[0m\u001b[1;33m\u001b[0m\u001b[0m\n\u001b[0;32m     15\u001b[0m         \u001b[1;32mreturn\u001b[0m \u001b[0mself\u001b[0m\u001b[1;33m.\u001b[0m\u001b[0m_Fan__speed\u001b[0m\u001b[1;33m,\u001b[0m\u001b[0mself\u001b[0m\u001b[1;33m.\u001b[0m\u001b[0m_Fan__radius\u001b[0m\u001b[1;33m,\u001b[0m\u001b[0mself\u001b[0m\u001b[1;33m.\u001b[0m\u001b[0m_Fan__color\u001b[0m\u001b[1;33m,\u001b[0m\u001b[0mself\u001b[0m\u001b[1;33m.\u001b[0m\u001b[0m_Fan__on\u001b[0m\u001b[1;33m\u001b[0m\u001b[0m\n",
      "\u001b[1;32m<string>\u001b[0m in \u001b[0;36m<module>\u001b[1;34m()\u001b[0m\n",
      "\u001b[1;31mNameError\u001b[0m: name 'false' is not defined"
     ]
    }
   ],
   "source": [
    "Fan1=Fan()\n",
    "Fan1.test()"
   ]
  },
  {
   "cell_type": "code",
   "execution_count": 4,
   "metadata": {},
   "outputs": [],
   "source": [
    "SLOW=1\n",
    "MDEIUM=2\n",
    "FAST=3\n",
    "class Fan:\n",
    "    def __init__(self,speed,radius,color,on=False):\n",
    "        self.speed=speed\n",
    "        self.on=on\n",
    "        self.radius=radius\n",
    "        self.color=color\n",
    "    def setspeed(self,speed):\n",
    "        self.speed=speed\n",
    "    def seton(self,on):\n",
    "        self.on=on\n",
    "    def setradius(self,radius):\n",
    "        self.radius=radius\n",
    "    def setcolor(self,color):\n",
    "        self.color=color\n",
    "    def getpeed(self):\n",
    "        return self.speed\n",
    "    def geton(self):\n",
    "        return self.on\n",
    "    def getradius(self):\n",
    "        return self.radius\n",
    "    def getcolor(self):\n",
    "        return self.color\n",
    "    def gouzao(self,speed=SLOW,radius=5,color='blue',on=False):\n",
    "        self.speed=speed\n",
    "        self.on=on\n",
    "        self.radius=radius\n",
    "        self.color=color\n",
    "    def output(self):\n",
    "        print(self.speed,self.radius,self.color,self.on)\n",
    "    "
   ]
  },
  {
   "cell_type": "code",
   "execution_count": 5,
   "metadata": {},
   "outputs": [
    {
     "name": "stdout",
     "output_type": "stream",
     "text": [
      "3 10 yellow True\n"
     ]
    }
   ],
   "source": [
    "f1=Fan(FAST,10,'yellow',True)\n",
    "f1.output()"
   ]
  },
  {
   "cell_type": "code",
   "execution_count": 6,
   "metadata": {},
   "outputs": [
    {
     "name": "stdout",
     "output_type": "stream",
     "text": [
      "2 5 blue False\n"
     ]
    }
   ],
   "source": [
    "f2=Fan(MDEIUM,5,'blue',False)\n",
    "f2.output()"
   ]
  },
  {
   "cell_type": "markdown",
   "metadata": {},
   "source": [
    "- 4\n",
    "![](../Photo/94.png)\n",
    "![](../Photo/95.png)"
   ]
  },
  {
   "cell_type": "code",
   "execution_count": 8,
   "metadata": {},
   "outputs": [],
   "source": [
    "import math\n",
    "class RegularPolygon:\n",
    "    def __init__(self,n=3,side=1,x=0,y=0):\n",
    "        self.n=n\n",
    "        self.side=side\n",
    "        self.x=x\n",
    "        self.y=y\n",
    "    def getn(self):\n",
    "        return n\n",
    "    def getside(self):\n",
    "        return side\n",
    "    def getx(self):\n",
    "        return x\n",
    "    def gety(self):\n",
    "        return y\n",
    "    def setn(self,n):\n",
    "        self.n=n\n",
    "    def setside(self,side):\n",
    "        self.side=side\n",
    "    def setx(self,x):\n",
    "        self.x=x\n",
    "    def sety(self,y):\n",
    "        self.y=y\n",
    "    def getPerimeter(self):\n",
    "        return self.side*self.n\n",
    "    def getArea(self):\n",
    "        return (self.n*self.side**2)/(4*math.tan(math.pi/self.n))"
   ]
  },
  {
   "cell_type": "code",
   "execution_count": 9,
   "metadata": {},
   "outputs": [
    {
     "name": "stdout",
     "output_type": "stream",
     "text": [
      "3\n",
      "0.43301270189221946\n",
      "24\n",
      "41.569219381653056\n",
      "40\n",
      "123.10734148701015\n"
     ]
    }
   ],
   "source": [
    "rp1=RegularPolygon()\n",
    "print(rp1.getPerimeter())\n",
    "print(rp1.getArea())\n",
    "rp2=RegularPolygon(6,4)\n",
    "print(rp2.getPerimeter())\n",
    "print(rp2.getArea())\n",
    "rp3=RegularPolygon(10,4,5,7.8)\n",
    "print(rp3.getPerimeter())\n",
    "print(rp3.getArea())"
   ]
  },
  {
   "cell_type": "markdown",
   "metadata": {},
   "source": [
    "- 5\n",
    "![](../Photo/96.png)"
   ]
  },
  {
   "cell_type": "markdown",
   "metadata": {},
   "source": [
    "- 6\n",
    "![](../Photo/97.png)"
   ]
  },
  {
   "cell_type": "code",
   "execution_count": null,
   "metadata": {},
   "outputs": [],
   "source": []
  },
  {
   "cell_type": "markdown",
   "metadata": {},
   "source": [
    "- 7\n",
    "![](../Photo/98.png)"
   ]
  },
  {
   "cell_type": "code",
   "execution_count": 2,
   "metadata": {},
   "outputs": [],
   "source": [
    "class LineraEquation:\n",
    "    def __init__(self,a,b,c,d,e,f):\n",
    "        self.__a=a\n",
    "        self.__b=b\n",
    "        self.__c=c\n",
    "        self.__d=d\n",
    "        self.__e=e\n",
    "        self.__f=f\n",
    "    def geta(self):\n",
    "        return self.__a\n",
    "    def getb(self):\n",
    "        return self.__b\n",
    "    def getc(self):\n",
    "        return self.__c\n",
    "    def getd(self):\n",
    "        return self.__d\n",
    "    def gete(self):\n",
    "        return self.__e\n",
    "    def getf(self):\n",
    "        return self.__f\n",
    "    def isSolvable(self):\n",
    "        if self.__a*self.__d-self.__b*self.__c!=0:\n",
    "            return True\n",
    "        else:\n",
    "            return False\n",
    "    def getx(self):\n",
    "        return (self.__d*self.__e-self.__b*self.__f)/(self.__a*self.__d-self.__b*self.__c)\n",
    "    def gety(self):\n",
    "        return (self.__a*self.__f-self.__e*self.__c)/(self.__a*self.__d-self.__b*self.__c)"
   ]
  },
  {
   "cell_type": "code",
   "execution_count": 3,
   "metadata": {},
   "outputs": [
    {
     "name": "stdout",
     "output_type": "stream",
     "text": [
      "enter the num a,b,c,d,e,f:1,2,3,4,5,6\n",
      "-4.0 4.5\n"
     ]
    }
   ],
   "source": [
    "a,b,c,d,e,f=eval(input('enter the num a,b,c,d,e,f:'))\n",
    "le=LineraEquation(a,b,c,d,e,f)\n",
    "if le.isSolvable()==False:\n",
    "    print('这个方程无解')\n",
    "else:\n",
    "    print(le.getx(),le.gety())"
   ]
  },
  {
   "cell_type": "markdown",
   "metadata": {},
   "source": [
    "- 8 进阶\n",
    "- 定义一个子类，一个父类\n",
    "    - 父类产生随机数\n",
    "    - 子类一直判定该随机数是奇数还是偶数\n",
    "        - 该例子实际上就是一个粗浅的分布式"
   ]
  },
  {
   "cell_type": "code",
   "execution_count": 5,
   "metadata": {},
   "outputs": [],
   "source": [
    "import random\n",
    "class father:\n",
    "    def __init__(self):\n",
    "        self.Random = None\n",
    "    def create_num(self):\n",
    "        self.Random = random.randrange(0,100)\n",
    "        return self.Random\n",
    "class Son(father):\n",
    "    def __init__(self):\n",
    "        father.__init__(self)\n",
    "    def result(self):\n",
    "        while True:\n",
    "            res_num = self.create_num()\n",
    "            if res_num % 2 == 0:\n",
    "                print(\"%d : 是偶数\"%self.Random)\n",
    "            else:\n",
    "                 print(\"%d : 是奇数\"%self.Random)"
   ]
  },
  {
   "cell_type": "code",
   "execution_count": null,
   "metadata": {},
   "outputs": [],
   "source": [
    "Son().result()"
   ]
  }
 ],
 "metadata": {
  "kernelspec": {
   "display_name": "Python 3",
   "language": "python",
   "name": "python3"
  },
  "language_info": {
   "codemirror_mode": {
    "name": "ipython",
    "version": 3
   },
   "file_extension": ".py",
   "mimetype": "text/x-python",
   "name": "python",
   "nbconvert_exporter": "python",
   "pygments_lexer": "ipython3",
   "version": "3.6.4"
  }
 },
 "nbformat": 4,
 "nbformat_minor": 2
}
