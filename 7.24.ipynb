{
 "cells": [
  {
   "cell_type": "markdown",
   "metadata": {},
   "source": [
    "# 更多字符串和特殊方法\n",
    "- 前面我们已经学了类，在Python中还有一些特殊的方法起着非常重要的作用，这里会介绍一些特殊的方法和运算符的重载，以及使用特殊方法设计类"
   ]
  },
  {
   "cell_type": "code",
   "execution_count": 23,
   "metadata": {},
   "outputs": [
    {
     "name": "stdout",
     "output_type": "stream",
     "text": [
      "陈*萌*,*0*1*0*-*1*1*6*3*2*1*,*M*,*1*9*0*0*0*1*0*1*,*北*京*市*海*淀*区*苏*州*街*3*号*大*恒*科*技*大*厦*北*座*6*层*,*1*0*0*0*8*0*,*1*0*1*1*6*,*0*1*0*-*8*2*8*0*8*0*2*8*,*0*1*0*-*8*2*8*2*8*0*2*8*-*2*0*8*,*c*h*e*n*m*e*n*g*@*d*i*s*t*.*c*o*m*.*c*n*,*0*\n",
      "\n",
      "贾*新*格*,*0*2*8*2*,*M*,*1*9*0*0*0*1*0*1*,*河*北*省*石*家*庄*栾*城*县*城*南*一*公*里*,*0*5*1*4*3*0*,*1*3*8*3*1*1*9*3*7*6*2*,*0*3*1*1*-*8*8*0*3*0*0*6*6*,*0*3*1*1*-*8*8*0*3*0*0*8*8*,*i*n*f*o*@*s*h*i*n*e*w*a*y*.*c*o*m*,*0*\n",
      "\n",
      "李*锦*花*,*0*1*0*-*1*2*5*3*2*1*,*F*,*1*9*0*0*0*1*0*1*,*北*京*市*海*淀*区*蓝*靛*厂*南*路*2*5*号*牛*顿*办*公*区*南*座*6*层*,*1*0*0*0*9*7*,*1*0*1*2*5*,*0*1*0*-*8*8*4*0*0*2*0*2*,*0*1*0*-*8*8*4*0*0*2*6*0*,*\n",
      "\n",
      "张*俊*莲*,*0*1*0*-*1*3*0*3*2*1*,*F*,*1*9*0*0*0*1*0*1*,*北*京*市*三*环*东*路*1*1*号*北*京*中*医*药*大*学*京*港*湾*宾*馆*2*3*9*房*间*,*1*0*0*0*2*9*,*1*0*1*3*0*,*0*1*0*-*5*1*2*9*2*0*5*2*/*3*-*8*0*2*,*0*1*0*-*5*1*2*9*2*0*5*2*/*3*-*8*1*1*,*z*j*l*1*0*0*8*@*s*i*n*a*.*c*o*m*,*\n",
      "\n",
      "曹*守*月*,*0*1*0*-*1*4*2*3*2*1*,*F*,*1*9*0*0*0*1*0*1*,*北*京*市*丰*台*区*定*安*东*里*1*8*号*楼*4*门*4*0*3*1*室*,*1*0*0*0*0*7*,*1*0*1*4*2*,*0*1*0*-*6*7*6*8*7*0*4*4*,*0*1*0*-*6*7*6*8*7*0*4*4*,*b*a*i*g*u*o*s*h*o*u*y*u*e*@*s*i*n*a*.*c*o*m* *,*\n",
      "\n"
     ]
    }
   ],
   "source": [
    "file_path ='\\\\Users\\\\Administrator\\\\Desktop\\\\kaifangX.txt'\n",
    "with open(file_path,mode='r',encoding='gbk') as f:\n",
    "    for i in range(5):\n",
    "        print('*'.join(f.readline()))"
   ]
  },
  {
   "cell_type": "code",
   "execution_count": 21,
   "metadata": {},
   "outputs": [
    {
     "name": "stdout",
     "output_type": "stream",
     "text": [
      "陈萌,010-116321,M,19000101,北京市海淀区苏州街3号大恒科技大厦北座6层,100080,10116,010-82808028,010-82828028-208,chenmeng@dist.com.cn,0\n",
      "陈萌,010-116321,M,19000101,北京市海淀区苏州街3号大恒科技大厦北座6层,100080,10116,010-82808028,010-82828028-208,chenmeng@dist.com.cn,0\n",
      "陈萌,010-116321,M,19000101,北京市海淀区苏州街3号大恒科技大厦北座6层,100080,10116,010-82808028,010-82828028-208,chenmeng@dist.com.cn,0\n",
      "陈萌,010-116321,M,19000101,北京市海淀区苏州街3号大恒科技大厦北座6层,100080,10116,010-82808028,010-82828028-208,chenmeng@dist.com.cn,0\n",
      "陈萌,010-116321,M,19000101,北京市海淀区苏州街3号大恒科技大厦北座6层,100080,10116,010-82808028,010-82828028-208,chenmeng@dist.com.cn,0\n",
      "\n",
      "贾新格,0282,M,19000101,河北省石家庄栾城县城南一公里,051430,13831193762,0311-88030066,0311-88030088,info@shineway.com,0\n",
      "贾新格,0282,M,19000101,河北省石家庄栾城县城南一公里,051430,13831193762,0311-88030066,0311-88030088,info@shineway.com,0\n",
      "贾新格,0282,M,19000101,河北省石家庄栾城县城南一公里,051430,13831193762,0311-88030066,0311-88030088,info@shineway.com,0\n",
      "贾新格,0282,M,19000101,河北省石家庄栾城县城南一公里,051430,13831193762,0311-88030066,0311-88030088,info@shineway.com,0\n",
      "贾新格,0282,M,19000101,河北省石家庄栾城县城南一公里,051430,13831193762,0311-88030066,0311-88030088,info@shineway.com,0\n",
      "\n",
      "李锦花,010-125321,F,19000101,北京市海淀区蓝靛厂南路25号牛顿办公区南座6层,100097,10125,010-88400202,010-88400260,\n",
      "李锦花,010-125321,F,19000101,北京市海淀区蓝靛厂南路25号牛顿办公区南座6层,100097,10125,010-88400202,010-88400260,\n",
      "李锦花,010-125321,F,19000101,北京市海淀区蓝靛厂南路25号牛顿办公区南座6层,100097,10125,010-88400202,010-88400260,\n",
      "李锦花,010-125321,F,19000101,北京市海淀区蓝靛厂南路25号牛顿办公区南座6层,100097,10125,010-88400202,010-88400260,\n",
      "李锦花,010-125321,F,19000101,北京市海淀区蓝靛厂南路25号牛顿办公区南座6层,100097,10125,010-88400202,010-88400260,\n",
      "\n",
      "张俊莲,010-130321,F,19000101,北京市三环东路11号北京中医药大学京港湾宾馆239房间,100029,10130,010-51292052/3-802,010-51292052/3-811,zjl1008@sina.com,\n",
      "张俊莲,010-130321,F,19000101,北京市三环东路11号北京中医药大学京港湾宾馆239房间,100029,10130,010-51292052/3-802,010-51292052/3-811,zjl1008@sina.com,\n",
      "张俊莲,010-130321,F,19000101,北京市三环东路11号北京中医药大学京港湾宾馆239房间,100029,10130,010-51292052/3-802,010-51292052/3-811,zjl1008@sina.com,\n",
      "张俊莲,010-130321,F,19000101,北京市三环东路11号北京中医药大学京港湾宾馆239房间,100029,10130,010-51292052/3-802,010-51292052/3-811,zjl1008@sina.com,\n",
      "张俊莲,010-130321,F,19000101,北京市三环东路11号北京中医药大学京港湾宾馆239房间,100029,10130,010-51292052/3-802,010-51292052/3-811,zjl1008@sina.com,\n",
      "\n",
      "曹守月,010-142321,F,19000101,北京市丰台区定安东里18号楼4门4031室,100007,10142,010-67687044,010-67687044,baiguoshouyue@sina.com ,\n",
      "曹守月,010-142321,F,19000101,北京市丰台区定安东里18号楼4门4031室,100007,10142,010-67687044,010-67687044,baiguoshouyue@sina.com ,\n",
      "曹守月,010-142321,F,19000101,北京市丰台区定安东里18号楼4门4031室,100007,10142,010-67687044,010-67687044,baiguoshouyue@sina.com ,\n",
      "曹守月,010-142321,F,19000101,北京市丰台区定安东里18号楼4门4031室,100007,10142,010-67687044,010-67687044,baiguoshouyue@sina.com ,\n",
      "曹守月,010-142321,F,19000101,北京市丰台区定安东里18号楼4门4031室,100007,10142,010-67687044,010-67687044,baiguoshouyue@sina.com ,\n",
      "\n"
     ]
    }
   ],
   "source": [
    "file_path ='\\\\Users\\\\Administrator\\\\Desktop\\\\kaifangX.txt'\n",
    "with open(file_path,mode='r',encoding='gbk') as f:\n",
    "    for i in range(5):\n",
    "        print(f.readline()*5)"
   ]
  },
  {
   "cell_type": "code",
   "execution_count": 29,
   "metadata": {},
   "outputs": [
    {
     "name": "stdout",
     "output_type": "stream",
     "text": [
      "\n",
      "陈陈陈陈陈\n",
      "萌,萌,萌,萌,萌,\n",
      "010010010010010\n",
      "-116-116-116-116-116\n"
     ]
    }
   ],
   "source": [
    "file_path ='\\\\Users\\\\Administrator\\\\Desktop\\\\kaifangX.txt'\n",
    "with open(file_path,mode='r',encoding='gbk') as f:\n",
    "    for i in range(5):\n",
    "        print(5*f.readline(i))"
   ]
  },
  {
   "cell_type": "code",
   "execution_count": 33,
   "metadata": {},
   "outputs": [
    {
     "name": "stdout",
     "output_type": "stream",
     "text": [
      "陈萌,010-116321,M,19000101,北京市海淀区苏州街3号大恒科技大厦北座6层,100080,10116,010-82808028,010-82828028-208,chenmeng@dist.com.cn,0\n",
      "\n",
      "贾新格,0282,M,19000101,河北省石家庄栾城县城南一公里,051430,13831193762,0311-88030066,0311-88030088,info@shineway.com,0\n",
      "\n",
      "李锦花,010-125321,F,19000101,北京市海淀区蓝靛厂南路25号牛顿办公区南座6层,100097,10125,010-88400202,010-88400260,\n",
      "\n",
      "张俊莲,010-130321,F,19000101,北京市三环东路11号北京中医药大学京港湾宾馆239房间,100029,10130,010-51292052/3-802,010-51292052/3-811,zjl1008@sina.com,\n",
      "\n",
      "曹守月,010-142321,F,19000101,北京市丰台区定安东里18号楼4门4031室,100007,10142,010-67687044,010-67687044,baiguoshouyue@sina.com ,\n",
      "\n"
     ]
    }
   ],
   "source": [
    "file_path ='\\\\Users\\\\Administrator\\\\Desktop\\\\kaifangX.txt'\n",
    "with open(file_path,mode='r',encoding='gbk') as f:\n",
    "    for i in range(5):\n",
    "        print(f.readline())"
   ]
  },
  {
   "cell_type": "code",
   "execution_count": null,
   "metadata": {},
   "outputs": [
    {
     "name": "stdout",
     "output_type": "stream",
     "text": [
      "张鹏举,370102198504090635,M,19850409,-,-,13505402713,-,-,yuanju2@hotmail.com,0\n",
      "\n",
      "张鹏举,320721198506114613,M,19850611,闵行区红松东路１０８８号研发  处研发处                      上海旺旺集团,-,13524690101,051882191214,\n",
      "\n",
      "张鹏举,412721198602170678,M,19860217,武汉市武昌区丁字桥路110号,\n",
      "\n",
      "张鹏举,430981198608107273,M,19860810,湖南省沅江市共华镇文卫路13号,\n",
      "\n",
      "张鹏举,410482800701601,M,19800701,金水区经三路 68 号金城国际广  场 6 号楼东单元 2304 室       浙江新华制药股份有限公司销售,450000,15515829412,037166079023,\n",
      "\n",
      "张鹏举,411081198105115974,M,19810511,中原区伏牛路,\n",
      "\n",
      "张鹏举,084502191905062515,M,19190506,内蒙古包头市昆都仑区青松小区二段8栋17号,\n",
      "\n",
      "张鹏举,232601195405180019,M,19540518,0,\n",
      "\n",
      "张鹏举,500107198608257715, ,19860825,\n",
      "\n",
      "张鹏举,37072519811130533X,M,19811130,上海市长宁区延安西路900号,\n",
      "\n",
      "张鹏举,411082198511060653,M,19851106,河南省长葛市坡胡镇营张村一组,\n",
      "\n",
      "张鹏举,120109197707041511,M,19770704,\n",
      "\n",
      "张鹏举,130302197201170410,M,19720117,河北省秦皇岛市海港区秦皇小区103栋2单元1号,\n",
      "\n",
      "张鹏举,150204198506251532,M,19850625,内蒙古包头市昆都仑区青松小区二段8栋17号,\n",
      "\n",
      "张鹏举,642223197808111810,M,19780811,\n",
      "\n",
      "张鹏举,140302198501020437,M,19850102,山西省阳泉市城区巨兴街14号2楼27户,\n",
      "\n",
      "张鹏举,610422198112141458, ,19811214,\n",
      "\n",
      "张鹏举,412721198708294257,M,19870829,河市省扶沟县江村镇李桥行政村孟岗村,\n",
      "\n",
      "张鹏举,429004198603170956,M,19860317,江苏省南通市崇川区青年东路40号,\n",
      "\n",
      "张鹏举,320102196304032870,M,19630403,呼和浩特市新城区团结巷2号院5号楼3单元5号,\n",
      "\n",
      "张鹏举,21070319850320202X,F,19850320,\n",
      "\n",
      "张鹏举,140523196405150016,M,19640515,山西省高平市炫氏东街银达巷公安小区1号楼1单元402室,\n",
      "\n",
      "张鹏举,422427197305212551,M,19730521,湖北省仙桃市大洪小区二十三栋一单元601号,\n",
      "\n",
      "张鹏举,232700196910241015,M,19691024,黑龙江省庆安县岭地区加格达奇区东山街设计院3号楼5单元601室,\n",
      "\n",
      "张鹏举,130281198204051710,M,19820405,\n",
      "\n",
      "张鹏举,130984199002081278,M,19900208,\n",
      "\n",
      "张鹏举,411123198610185510,M,19861018,河南省漯河市召陵区青年乡和庄村6组18号,\n",
      "\n",
      "张鹏举,610104198808105712,M,19880810,西安市碑林区西号巷9号1来2门5楼1,\n",
      "\n",
      "张鹏举,H096184,M,19000101,江苏,\n",
      "\n",
      "张鹏举,22070219820920971X,M,19820920,吉林省松原市宁江区文化街1委,\n",
      "\n",
      "张鹏举,652722199110211010,M,19911021,新疆精河县八家户农场建设路一街五巷26号,\n",
      "\n",
      "张鹏举,412301198104044030,M,19810404,\n",
      "\n",
      "张鹏举,132421198002075315,M,19800207,山东省广饶县大王镇青垦路161号1号院,\n",
      "\n",
      "张鹏举,142326199105191434,M,19910519,山西省临县临泉镇前麻峪村61号,\n",
      "\n",
      "张鹏举,42082119881018253X,M,19881018,\n",
      "\n",
      "张鹏举,412722196503098719,M,19650309,河市省周口市川汇区泛区建设东路008号,\n",
      "\n",
      "张鹏举,110228195607300030,M,19560730,北京市丰台区怡海花园富泽园6楼1门204号,\n",
      "\n",
      "张鹏举,370402196202182718,M,19620218,山东省枣庄市市中区文化路办事处立新小区21号楼3单元602室1,\n",
      "\n",
      "张鹏举,411802198511060653,M,19851106,\n",
      "\n",
      "张鹏举,220182197802277419,M,19780227,吉林省榆树市城发乡城发村三家子屯6组,\n",
      "\n",
      "张鹏举,440301198311134411,M,19831113,广东省深圳市罗湖区银湖二线警备区宿舍8栋307,\n",
      "\n",
      "张鹏举,140702198912267153,M,19891226,山西省晋中市榆次区渠南巷96号,\n",
      "\n",
      "张鹏举,610126198703063518,M,19870306,西安市高陵县崇皇乡军庄村十五组56号,\n",
      "\n",
      "张鹏举,321088197312040032,M,19731204,江苏省江都市扛都新村路8具,\n",
      "\n",
      "张鹏举,152523196910240315,M,19691024,\n",
      "\n",
      "张鹏举,411023199411065515,M,19941106,河南省许昌县椹涧乡蜜蜂张村一组,\n",
      "\n",
      "张鹏举,320721196401220015,M,19640122,江苏省赣榆县青口镇青年巷1-1号,\n",
      "\n",
      "张鹏举,410182198604266532,M,19860426,\n",
      "\n",
      "张鹏举,511523199512190033,M,19951219,四川省兴文县古宋镇盐井巷20号,\n",
      "\n",
      "张鹏举,230183198312096917,M,19831209,黑龙江省尚志市亚布力林业局跃进林场居民委1组93号,\n",
      "\n",
      "张鹏举,372330199205200049,F,19920520,山东,\n",
      "\n",
      "张鹏举,41292119771017201X,M,19771017,河南省南召县皇后乡红阳厂家属院单身公寓314号,\n",
      "\n",
      "张鹏举,042219190103014451,M,19010301,内蒙古赤峰市巴林左旗隆昌镇小二八地村2组,\n",
      "\n",
      "张鹏举,612724198802251217,M,19880225,陕西省横山县韩岔乡边则畔村雷梁组25号,\n",
      "\n",
      "张鹏举,320922198202195730,M,19820219,江苏省滨海县八滩镇宋尖村一组154号,\n",
      "\n",
      "张鹏举,3209221982021957303,M,19821008,北京市东城区,\n",
      "\n",
      "张鹏举,612401199504280953,M,19950428,西安市瀚桥区水安路28号2010级,\n",
      "\n",
      "张鹏举,412827198107077015,M,19810707,解放区,\n",
      "\n",
      "张鹏举,610625197609211031,M,19760921,陕西省志丹县红都街5号,\n",
      "\n",
      "张鹏举,412824198811255613,M,19881125,思明区厦禾路839号汇成商业中心1402－1403室厦门鑫湧资产管理有限公司,361001,15905045540,03966288741,\n",
      "\n",
      "张鹏举,370103196406015815,M,19640601,济南市市中区小梁庄街39号,\n",
      "\n"
     ]
    }
   ],
   "source": [
    "file_path ='\\\\Users\\\\Administrator\\\\Desktop\\\\kaifangX.txt'\n",
    "with open(file_path,mode='r',encoding='gbk',errors='ignore') as f:\n",
    "    while True:\n",
    "        line=f.readline()\n",
    "        if line.find('张鹏举')!=-1:\n",
    "            print(line)"
   ]
  },
  {
   "cell_type": "markdown",
   "metadata": {},
   "source": [
    "## str 类\n",
    "- 一个str对象是不可变的，也就是说，一旦创建了这个字符串，那么它的内容在认为不改变的情况下是不会变的\n",
    "- s1 = str()\n",
    "- s2 = str('welcome to Python')"
   ]
  },
  {
   "cell_type": "code",
   "execution_count": 5,
   "metadata": {},
   "outputs": [
    {
     "name": "stdout",
     "output_type": "stream",
     "text": [
      "welcome to Python\n"
     ]
    }
   ],
   "source": [
    "s1=str()\n",
    "s2=str('welcome to Python')\n",
    "print(s2)"
   ]
  },
  {
   "cell_type": "code",
   "execution_count": 2,
   "metadata": {},
   "outputs": [
    {
     "data": {
      "text/plain": [
       "'100'"
      ]
     },
     "execution_count": 2,
     "metadata": {},
     "output_type": "execute_result"
    }
   ],
   "source": [
    "str()\n",
    "str(100)"
   ]
  },
  {
   "cell_type": "code",
   "execution_count": 10,
   "metadata": {
    "scrolled": true
   },
   "outputs": [
    {
     "data": {
      "text/plain": [
       "'joker'"
      ]
     },
     "execution_count": 10,
     "metadata": {},
     "output_type": "execute_result"
    }
   ],
   "source": [
    "str('joker')"
   ]
  },
  {
   "cell_type": "code",
   "execution_count": 14,
   "metadata": {},
   "outputs": [],
   "source": [
    "class test:\n",
    "    def __init__(self,p):\n",
    "        self.p=p\n",
    "    def __str__(self):\n",
    "        return 'joker{}'.format(self.p)"
   ]
  },
  {
   "cell_type": "code",
   "execution_count": 17,
   "metadata": {},
   "outputs": [
    {
     "data": {
      "text/plain": [
       "'joker100'"
      ]
     },
     "execution_count": 17,
     "metadata": {},
     "output_type": "execute_result"
    }
   ],
   "source": [
    "test(100).__str__()"
   ]
  },
  {
   "cell_type": "code",
   "execution_count": 21,
   "metadata": {},
   "outputs": [
    {
     "name": "stdout",
     "output_type": "stream",
     "text": [
      "joker100\n"
     ]
    }
   ],
   "source": [
    "a=test(100)\n",
    "print(a)"
   ]
  },
  {
   "cell_type": "code",
   "execution_count": 22,
   "metadata": {},
   "outputs": [
    {
     "name": "stdout",
     "output_type": "stream",
     "text": [
      "joker100 joker100\n"
     ]
    }
   ],
   "source": [
    "a=test(100)\n",
    "print(a,a.__str__())"
   ]
  },
  {
   "cell_type": "code",
   "execution_count": 8,
   "metadata": {},
   "outputs": [],
   "source": [
    "class test2:\n",
    "    def __init__(self,p=''):\n",
    "        self.p=p\n",
    "    def __add__(self):\n",
    "        return 'joker%s'%self.p"
   ]
  },
  {
   "cell_type": "code",
   "execution_count": 9,
   "metadata": {},
   "outputs": [
    {
     "name": "stdout",
     "output_type": "stream",
     "text": [
      "jokerhuwang\n"
     ]
    }
   ],
   "source": [
    "b=test2('huwang')\n",
    "print(b.__add__())"
   ]
  },
  {
   "cell_type": "markdown",
   "metadata": {},
   "source": [
    "## 创建两个对象，分别观察两者id\n",
    "- id为Python内存地址"
   ]
  },
  {
   "cell_type": "markdown",
   "metadata": {},
   "source": [
    "## 处理字符串的函数\n",
    "- len\n",
    "- max\n",
    "- min\n",
    "- 字符串一切是按照ASCII码值进行比较"
   ]
  },
  {
   "cell_type": "markdown",
   "metadata": {},
   "source": [
    "## 下角标运算符 []\n",
    "- 一个字符串是一个字符序列，可以通过索引进行访问\n",
    "- 观察字符串是否是一个可迭代序列  \\__iter__"
   ]
  },
  {
   "cell_type": "code",
   "execution_count": 11,
   "metadata": {},
   "outputs": [
    {
     "data": {
      "text/plain": [
       "'j'"
      ]
     },
     "execution_count": 11,
     "metadata": {},
     "output_type": "execute_result"
    }
   ],
   "source": [
    "aa='jpkerhahah'\n",
    "aa[0]"
   ]
  },
  {
   "cell_type": "markdown",
   "metadata": {},
   "source": [
    "## 切片 [start: end]\n",
    "- start 默认值为0\n",
    "- end 默认值为-1"
   ]
  },
  {
   "cell_type": "markdown",
   "metadata": {},
   "source": [
    "## 链接运算符 + 和复制运算符 *\n",
    "- \\+ 链接多个字符串，同时''.join()也是\n",
    "- \\* 复制多个字符串"
   ]
  },
  {
   "cell_type": "code",
   "execution_count": 14,
   "metadata": {},
   "outputs": [
    {
     "data": {
      "text/plain": [
       "'joker*100'"
      ]
     },
     "execution_count": 14,
     "metadata": {},
     "output_type": "execute_result"
    }
   ],
   "source": [
    "a1='joker'\n",
    "a2='100'\n",
    "a1+a2\n",
    "'*'.join((a1,a2))"
   ]
  },
  {
   "cell_type": "code",
   "execution_count": 15,
   "metadata": {},
   "outputs": [
    {
     "data": {
      "text/plain": [
       "'joker100'"
      ]
     },
     "execution_count": 15,
     "metadata": {},
     "output_type": "execute_result"
    }
   ],
   "source": [
    "a1='joker'\n",
    "a2='100'\n",
    "a1+a2"
   ]
  },
  {
   "cell_type": "code",
   "execution_count": 16,
   "metadata": {},
   "outputs": [
    {
     "data": {
      "text/plain": [
       "'jokerjokerjokerjokerjoker'"
      ]
     },
     "execution_count": 16,
     "metadata": {},
     "output_type": "execute_result"
    }
   ],
   "source": [
    "a1*5"
   ]
  },
  {
   "cell_type": "markdown",
   "metadata": {},
   "source": [
    "## in 和 not in 运算符\n",
    "- in :判断某个字符是否在字符串内 \n",
    "- not in ：判断某个字符是否不在字符串内\n",
    "- 返回的是布尔值"
   ]
  },
  {
   "cell_type": "code",
   "execution_count": 34,
   "metadata": {},
   "outputs": [
    {
     "data": {
      "text/plain": [
       "False"
      ]
     },
     "execution_count": 34,
     "metadata": {},
     "output_type": "execute_result"
    }
   ],
   "source": [
    "a1='joker'\n",
    "\"8\" in a1"
   ]
  },
  {
   "cell_type": "markdown",
   "metadata": {},
   "source": [
    "## 比较字符串\n",
    "-  ==, !=, >=, <=, >, <\n",
    "- 依照ASCII码值进行比较"
   ]
  },
  {
   "cell_type": "markdown",
   "metadata": {},
   "source": [
    "## 测试字符串\n",
    "![](../Photo/99.png)\n",
    "- 注意：\n",
    "> - isalnum() 中是不能包含空格，否则会返回False"
   ]
  },
  {
   "cell_type": "code",
   "execution_count": 35,
   "metadata": {},
   "outputs": [
    {
     "data": {
      "text/plain": [
       "True"
      ]
     },
     "execution_count": 35,
     "metadata": {},
     "output_type": "execute_result"
    }
   ],
   "source": [
    "A1='hahaha'\n",
    "A1.isalnum()"
   ]
  },
  {
   "cell_type": "code",
   "execution_count": 36,
   "metadata": {},
   "outputs": [
    {
     "data": {
      "text/plain": [
       "False"
      ]
     },
     "execution_count": 36,
     "metadata": {},
     "output_type": "execute_result"
    }
   ],
   "source": [
    "A1='ha  ha'\n",
    "A1.isalnum()"
   ]
  },
  {
   "cell_type": "markdown",
   "metadata": {},
   "source": [
    "## 搜索子串\n",
    "![](../Photo/100.png)"
   ]
  },
  {
   "cell_type": "code",
   "execution_count": 37,
   "metadata": {},
   "outputs": [
    {
     "data": {
      "text/plain": [
       "False"
      ]
     },
     "execution_count": 37,
     "metadata": {},
     "output_type": "execute_result"
    }
   ],
   "source": [
    "a4='jokerhahah'\n",
    "a4.endswith('a')"
   ]
  },
  {
   "cell_type": "code",
   "execution_count": 38,
   "metadata": {},
   "outputs": [
    {
     "data": {
      "text/plain": [
       "True"
      ]
     },
     "execution_count": 38,
     "metadata": {},
     "output_type": "execute_result"
    }
   ],
   "source": [
    "a4.endswith('h')"
   ]
  },
  {
   "cell_type": "code",
   "execution_count": 5,
   "metadata": {},
   "outputs": [
    {
     "data": {
      "text/plain": [
       "-1"
      ]
     },
     "execution_count": 5,
     "metadata": {},
     "output_type": "execute_result"
    }
   ],
   "source": [
    "a5='jokerhahah'\n",
    "a5.find('hahb')"
   ]
  },
  {
   "cell_type": "code",
   "execution_count": 40,
   "metadata": {},
   "outputs": [
    {
     "data": {
      "text/plain": [
       "9"
      ]
     },
     "execution_count": 40,
     "metadata": {},
     "output_type": "execute_result"
    }
   ],
   "source": [
    "a5='jokerhahah'\n",
    "a5.rfind('h')"
   ]
  },
  {
   "cell_type": "code",
   "execution_count": 41,
   "metadata": {},
   "outputs": [
    {
     "data": {
      "text/plain": [
       "3"
      ]
     },
     "execution_count": 41,
     "metadata": {},
     "output_type": "execute_result"
    }
   ],
   "source": [
    "a5='jokerhahah'\n",
    "a5.count('h')"
   ]
  },
  {
   "cell_type": "code",
   "execution_count": 42,
   "metadata": {},
   "outputs": [
    {
     "data": {
      "text/plain": [
       "0"
      ]
     },
     "execution_count": 42,
     "metadata": {},
     "output_type": "execute_result"
    }
   ],
   "source": [
    "a5.count('A')"
   ]
  },
  {
   "cell_type": "markdown",
   "metadata": {},
   "source": [
    "## 转换字符串\n",
    "![](../Photo/101.png)"
   ]
  },
  {
   "cell_type": "markdown",
   "metadata": {},
   "source": [
    "## 删除字符串\n",
    "![](../Photo/102.png)"
   ]
  },
  {
   "cell_type": "code",
   "execution_count": 11,
   "metadata": {},
   "outputs": [
    {
     "data": {
      "text/plain": [
       "'testaa'"
      ]
     },
     "execution_count": 11,
     "metadata": {},
     "output_type": "execute_result"
    }
   ],
   "source": [
    "a='testaa   '\n",
    "a.strip()"
   ]
  },
  {
   "cell_type": "code",
   "execution_count": 14,
   "metadata": {},
   "outputs": [
    {
     "data": {
      "text/plain": [
       "'testaa'"
      ]
     },
     "execution_count": 14,
     "metadata": {},
     "output_type": "execute_result"
    }
   ],
   "source": [
    "a='tes taa   '\n",
    "a.strip()\n",
    "a.replace(' ','')"
   ]
  },
  {
   "cell_type": "markdown",
   "metadata": {},
   "source": [
    "## 格式化字符串\n",
    "![](../Photo/103.png)"
   ]
  },
  {
   "cell_type": "code",
   "execution_count": 15,
   "metadata": {},
   "outputs": [
    {
     "data": {
      "text/plain": [
       "'**testaa**'"
      ]
     },
     "execution_count": 15,
     "metadata": {},
     "output_type": "execute_result"
    }
   ],
   "source": [
    "a='testaa'\n",
    "a.center(10,'*')"
   ]
  },
  {
   "cell_type": "code",
   "execution_count": 16,
   "metadata": {},
   "outputs": [
    {
     "data": {
      "text/plain": [
       "'  testaa  '"
      ]
     },
     "execution_count": 16,
     "metadata": {},
     "output_type": "execute_result"
    }
   ],
   "source": [
    "a='testaa'\n",
    "a.center(10)"
   ]
  },
  {
   "cell_type": "code",
   "execution_count": 17,
   "metadata": {},
   "outputs": [
    {
     "data": {
      "text/plain": [
       "'testaa****'"
      ]
     },
     "execution_count": 17,
     "metadata": {},
     "output_type": "execute_result"
    }
   ],
   "source": [
    "a='testaa'\n",
    "a.ljust(10,'*')"
   ]
  },
  {
   "cell_type": "code",
   "execution_count": 18,
   "metadata": {},
   "outputs": [
    {
     "data": {
      "text/plain": [
       "['1', '2', '3', '4', '5', '6']"
      ]
     },
     "execution_count": 18,
     "metadata": {},
     "output_type": "execute_result"
    }
   ],
   "source": [
    "e='1,2,3,4,5,6'\n",
    "e.split(',')"
   ]
  },
  {
   "cell_type": "markdown",
   "metadata": {},
   "source": [
    "## EP:\n",
    "- 1\n",
    "![](../Photo/104.png)\n",
    "- 2 \n",
    "    随机参数100个数字，将www.baidu.com/?page=进行拼接"
   ]
  },
  {
   "cell_type": "code",
   "execution_count": 21,
   "metadata": {},
   "outputs": [],
   "source": [
    "s1=\"Welcome to Python\"\n",
    "s2=s1\n",
    "s3=\"Welcome to Python\"\n",
    "s4=\"to\"\n"
   ]
  },
  {
   "cell_type": "code",
   "execution_count": 22,
   "metadata": {
    "scrolled": true
   },
   "outputs": [
    {
     "data": {
      "text/plain": [
       "True"
      ]
     },
     "execution_count": 22,
     "metadata": {},
     "output_type": "execute_result"
    }
   ],
   "source": [
    "s1==s2"
   ]
  },
  {
   "cell_type": "code",
   "execution_count": 23,
   "metadata": {},
   "outputs": [
    {
     "data": {
      "text/plain": [
       "3"
      ]
     },
     "execution_count": 23,
     "metadata": {},
     "output_type": "execute_result"
    }
   ],
   "source": [
    "s2.count('o')"
   ]
  },
  {
   "cell_type": "code",
   "execution_count": 24,
   "metadata": {
    "scrolled": true
   },
   "outputs": [
    {
     "data": {
      "text/plain": [
       "True"
      ]
     },
     "execution_count": 24,
     "metadata": {},
     "output_type": "execute_result"
    }
   ],
   "source": [
    "id(s1)==id(s2)"
   ]
  },
  {
   "cell_type": "code",
   "execution_count": 25,
   "metadata": {
    "scrolled": false
   },
   "outputs": [
    {
     "data": {
      "text/plain": [
       "False"
      ]
     },
     "execution_count": 25,
     "metadata": {},
     "output_type": "execute_result"
    }
   ],
   "source": [
    "id(s1)==id(s3)"
   ]
  },
  {
   "cell_type": "code",
   "execution_count": 26,
   "metadata": {},
   "outputs": [
    {
     "data": {
      "text/plain": [
       "True"
      ]
     },
     "execution_count": 26,
     "metadata": {},
     "output_type": "execute_result"
    }
   ],
   "source": [
    "s1<=s4"
   ]
  },
  {
   "cell_type": "code",
   "execution_count": 27,
   "metadata": {},
   "outputs": [
    {
     "data": {
      "text/plain": [
       "False"
      ]
     },
     "execution_count": 27,
     "metadata": {},
     "output_type": "execute_result"
    }
   ],
   "source": [
    "s2>=s4"
   ]
  },
  {
   "cell_type": "code",
   "execution_count": 28,
   "metadata": {},
   "outputs": [
    {
     "data": {
      "text/plain": [
       "'totototo'"
      ]
     },
     "execution_count": 28,
     "metadata": {},
     "output_type": "execute_result"
    }
   ],
   "source": [
    "4*s4"
   ]
  },
  {
   "cell_type": "code",
   "execution_count": 29,
   "metadata": {},
   "outputs": [
    {
     "data": {
      "text/plain": [
       "'ome '"
      ]
     },
     "execution_count": 29,
     "metadata": {},
     "output_type": "execute_result"
    }
   ],
   "source": [
    "s1[4:8]"
   ]
  },
  {
   "cell_type": "code",
   "execution_count": 30,
   "metadata": {},
   "outputs": [
    {
     "data": {
      "text/plain": [
       "8"
      ]
     },
     "execution_count": 30,
     "metadata": {},
     "output_type": "execute_result"
    }
   ],
   "source": [
    "s1.find(s4)"
   ]
  },
  {
   "cell_type": "markdown",
   "metadata": {},
   "source": [
    "## Python高级使用方法 -- 字符串\n",
    "- 我们经常使用的方法实际上就是调用Python的运算重载\n",
    "![](../Photo/105.png)"
   ]
  },
  {
   "cell_type": "code",
   "execution_count": 31,
   "metadata": {},
   "outputs": [],
   "source": [
    "class jiancha():\n",
    "    def __init__(self,number):\n",
    "        self.number=number\n",
    "    def __sub__(self,other):\n",
    "        return self.number-other\n",
    "    "
   ]
  },
  {
   "cell_type": "code",
   "execution_count": 32,
   "metadata": {},
   "outputs": [
    {
     "data": {
      "text/plain": [
       "46"
      ]
     },
     "execution_count": 32,
     "metadata": {},
     "output_type": "execute_result"
    }
   ],
   "source": [
    "m1=jiancha(80)\n",
    "m1.__sub__(34)"
   ]
  },
  {
   "cell_type": "code",
   "execution_count": 2,
   "metadata": {},
   "outputs": [
    {
     "name": "stdout",
     "output_type": "stream",
     "text": [
      ">> Creating image 10/10\n",
      "生成完毕\n"
     ]
    }
   ],
   "source": [
    "from captcha.image import ImageCaptcha\n",
    "import numpy as np\n",
    "from PIL import Image\n",
    "import random\n",
    "import sys\n",
    "number = ['1','2','3','4','5','6','7','8','9','0']\n",
    "Alphabet = ['A','B','C','D','E','F','G','H','I','J','K','L','M','N','O','P','Q','R','S','T','U','V','W','X','Y','Z']\n",
    "alphabet = ['a','b','c','d','e','f','g','h','i','j','k','l','m','n','o','p','q','r','s','t','u','v','w','x','y','z']\n",
    "def random_captcha_text(char_set = number, captcah_size = 4):\n",
    "    # 验证码列表\n",
    "    captcha_text = []\n",
    "    for i in range(captcah_size):\n",
    "        # 随机选择\n",
    "        c = random.choice(char_set)\n",
    "        # 加入验证码列表\n",
    "        captcha_text.append(c)\n",
    "    return captcha_text\n",
    "# 生成字符串对应列表\n",
    "def gen_captcha_text_and_image():\n",
    "    image = ImageCaptcha()\n",
    "    # 获得随机生成验证码\n",
    "    captcha_text = random_captcha_text()\n",
    "    # 把验证码转成字符串\n",
    "    captcha_text = ''.join(captcha_text)\n",
    "    # 生成验证码\n",
    "    captcha = image.generate(captcha_text)\n",
    "    image.write(captcha_text,'\\\\Users\\\\Administrator\\\\Desktop\\\\' + captcha_text + '.jpg') # 写入文件\n",
    "    # 生成验证码数量，其数量会少于10000，因为会有重复出现\n",
    "\n",
    "num = 10\n",
    "if __name__ == '__main__':\n",
    "    for i in range(num):\n",
    "        gen_captcha_text_and_image()\n",
    "        sys.stdout.write('\\r>> Creating image %d/%d'%(i+1,num))\n",
    "    sys.stdout.write('\\n')\n",
    "    sys.stdout.flush()\n",
    "    print('生成完毕')"
   ]
  },
  {
   "cell_type": "markdown",
   "metadata": {},
   "source": [
    "# Homework\n",
    "- 1\n",
    "![](../Photo/106.png)"
   ]
  },
  {
   "cell_type": "code",
   "execution_count": 2,
   "metadata": {},
   "outputs": [],
   "source": [
    "class testSSN():\n",
    "    def __init__(self,p=''):\n",
    "        print(\"ddd-dd-dddd\")\n",
    "        self.p=input()\n",
    "    def test(self):\n",
    "        A1=self.p\n",
    "        if A1.isdigit():\n",
    "            print(\"Valid SSN\")\n",
    "        else:\n",
    "            print(\"Invalid SSN\")\n",
    "       "
   ]
  },
  {
   "cell_type": "code",
   "execution_count": 3,
   "metadata": {},
   "outputs": [
    {
     "name": "stdout",
     "output_type": "stream",
     "text": [
      "ddd-dd-dddd\n",
      "123-23-3456\n",
      "Invalid SSN\n"
     ]
    }
   ],
   "source": [
    "test10=testSSN()\n",
    "test10.test()\n",
    "\n"
   ]
  },
  {
   "cell_type": "markdown",
   "metadata": {},
   "source": [
    "- 2\n",
    "![](../Photo/107.png)"
   ]
  },
  {
   "cell_type": "code",
   "execution_count": 12,
   "metadata": {},
   "outputs": [
    {
     "name": "stdout",
     "output_type": "stream",
     "text": [
      "enter b string asdfghj\n",
      "enter a string sdfgre\n",
      "不是\n"
     ]
    }
   ],
   "source": [
    "b=input(\"enter b string: \")\n",
    "a=input(\"enter a string: \")\n",
    "if b.find(a)==-1:\n",
    "    print(\"不是\")\n",
    "else:\n",
    "    print(\"是\") "
   ]
  },
  {
   "cell_type": "markdown",
   "metadata": {},
   "source": [
    "- 3\n",
    "![](../Photo/108.png)"
   ]
  },
  {
   "cell_type": "code",
   "execution_count": 3,
   "metadata": {},
   "outputs": [
    {
     "name": "stdout",
     "output_type": "stream",
     "text": [
      "输入一个密码asdfgh2jkl\n",
      "invalid password\n"
     ]
    }
   ],
   "source": [
    "Num=input(\"输入一个密码:\")\n",
    "b1=len(Num)\n",
    "if b1>=8 and Num.isalnum():\n",
    "    num=0\n",
    "    for i in Num:\n",
    "        if ord('0')<=ord(i)<=ord('9'):\n",
    "            num=num+1\n",
    "    if num>=2:\n",
    "        print(\"valid password\")\n",
    "        print(Num)\n",
    "    else:\n",
    "        print(\"invalid password\")    \n",
    "else:\n",
    "    print(\"invalid password\")\n",
    "    "
   ]
  },
  {
   "cell_type": "markdown",
   "metadata": {},
   "source": [
    "- 4\n",
    "![](../Photo/109.png)"
   ]
  },
  {
   "cell_type": "code",
   "execution_count": 3,
   "metadata": {},
   "outputs": [],
   "source": [
    "def countLetters():\n",
    "    Num=input(\"输入一个密码:\")\n",
    "    num=0\n",
    "    for i in Num:\n",
    "        if  ord('a')<=ord(i)<=ord('z') or ord('A')<=ord(i)<=ord('Z'):\n",
    "            num=num+1\n",
    "        else: \n",
    "            num=num\n",
    "    print(num)"
   ]
  },
  {
   "cell_type": "code",
   "execution_count": 4,
   "metadata": {},
   "outputs": [
    {
     "name": "stdout",
     "output_type": "stream",
     "text": [
      "输入一个密码:asdfghj23k\n",
      "8\n"
     ]
    }
   ],
   "source": [
    "countLetters()"
   ]
  },
  {
   "cell_type": "markdown",
   "metadata": {},
   "source": [
    "- 5\n",
    "![](../Photo/110.png)"
   ]
  },
  {
   "cell_type": "code",
   "execution_count": 28,
   "metadata": {},
   "outputs": [],
   "source": [
    "def getNumber():\n",
    "    Num=input(\"Enter a string:\")\n",
    "    for i in Num:\n",
    "        if  ord('A')<=ord(i)<=ord('Z'):\n",
    "            Num=Num.lower()\n",
    "        else:\n",
    "             Num=Num\n",
    "    for i in Num:\n",
    "        if ord(i)==ord('a')or ord(i)==ord('b')or ord(i)==ord('c'):\n",
    "            Num=Num.replace(i,'2')\n",
    "        elif ord(i)==ord('d')or ord(i)==ord('e')or ord(i)==ord('f'):\n",
    "            Num=Num.replace(i,'3')\n",
    "        elif ord(i)==ord('g')or ord(i)==ord('h')or ord(i)==ord('i'):\n",
    "            Num=Num.replace(i,'4')\n",
    "        elif ord(i)==ord('j')or ord(i)==ord('k')or ord(i)==ord('l'):\n",
    "            Num=Num.replace(i,'5')\n",
    "        elif ord(i)==ord('m')or ord(i)==ord('n')or ord(i)==ord('o'):\n",
    "            Num=Num.replace(i,'6')\n",
    "        elif ord(i)==ord('p')or ord(i)==ord('q')or ord(i)==ord('r')or ord(i)==ord('s'):\n",
    "            Num=Num.replace(i,'7')\n",
    "        elif ord(i)==ord('v')or ord(i)==ord('t')or ord(i)==ord('u'):\n",
    "            Num=Num.replace(i,'8')\n",
    "        elif ord(i)==ord('w')or ord(i)==ord('x')or ord(i)==ord('y')or ord(i)==ord('z'):\n",
    "            Num=Num.replace(i,'9')\n",
    "            \n",
    "    print(Num)"
   ]
  },
  {
   "cell_type": "code",
   "execution_count": 29,
   "metadata": {},
   "outputs": [
    {
     "name": "stdout",
     "output_type": "stream",
     "text": [
      "Enter a string:1-800-Flowers\n",
      "1-800-3569377\n"
     ]
    }
   ],
   "source": [
    "getNumber()"
   ]
  },
  {
   "cell_type": "markdown",
   "metadata": {},
   "source": [
    "- 6\n",
    "![](../Photo/111.png)"
   ]
  },
  {
   "cell_type": "code",
   "execution_count": 28,
   "metadata": {},
   "outputs": [],
   "source": [
    "def reverse():\n",
    "    Num=input(\"输入一个字符串:\")\n",
    "    b1=len(Num)\n",
    "    for i in range(0,b1,1):\n",
    "        a1=Num[i]\n",
    "        #for j in range(0,b1,1):\n",
    "        c1=Num[b1-1-i]\n",
    "        print(c1,end=\"\") "
   ]
  },
  {
   "cell_type": "code",
   "execution_count": 29,
   "metadata": {},
   "outputs": [
    {
     "name": "stdout",
     "output_type": "stream",
     "text": [
      "输入一个字符串:asdfghjkl\n",
      "l k j h g f d s a "
     ]
    }
   ],
   "source": [
    "reverse()"
   ]
  },
  {
   "cell_type": "markdown",
   "metadata": {},
   "source": [
    "- 7\n",
    "![](../Photo/112.png)"
   ]
  },
  {
   "cell_type": "markdown",
   "metadata": {},
   "source": [
    "- 8\n",
    "![](../Photo/113.png)"
   ]
  },
  {
   "cell_type": "code",
   "execution_count": 2,
   "metadata": {},
   "outputs": [
    {
     "name": "stdout",
     "output_type": "stream",
     "text": [
      "输入一个字符串:978013213079\n",
      "['9', '7', '8', '0', '1', '3', '2', '1', '3', '0', '7', '9']\n",
      "['9', '7', '8', '0', '1', '3', '2', '1', '3', '0', '7', '9', 0]\n",
      "9780132130790"
     ]
    }
   ],
   "source": [
    "Num=(input(\"输入一个字符串:\"))\n",
    "s=0\n",
    "s2=0\n",
    "b=len(Num)\n",
    "num=[]\n",
    "for i in Num:\n",
    "    num.append(i)\n",
    "print(num)\n",
    "for i in range(0,b,2):\n",
    "    s2=s2+(ord(num[i])-48)+(3*(ord(num[i+1])-48))\n",
    "s=s+s2\n",
    "d13=10-s%10\n",
    "if d13==10:\n",
    "    d13=0\n",
    "else:\n",
    "    d13=d13\n",
    "num.append(d13)\n",
    "print(num)\n",
    "for i in range(0,13):\n",
    "    print(str(num[i]),end=\"\")\n",
    "   "
   ]
  },
  {
   "cell_type": "markdown",
   "metadata": {},
   "source": [
    "- 9\n",
    "![](../Photo/114.png)"
   ]
  }
 ],
 "metadata": {
  "kernelspec": {
   "display_name": "Python 3",
   "language": "python",
   "name": "python3"
  },
  "language_info": {
   "codemirror_mode": {
    "name": "ipython",
    "version": 3
   },
   "file_extension": ".py",
   "mimetype": "text/x-python",
   "name": "python",
   "nbconvert_exporter": "python",
   "pygments_lexer": "ipython3",
   "version": "3.6.4"
  }
 },
 "nbformat": 4,
 "nbformat_minor": 2
}
